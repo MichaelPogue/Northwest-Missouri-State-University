{
 "cells": [
  {
   "cell_type": "code",
   "execution_count": 3,
   "metadata": {},
   "outputs": [
    {
     "name": "stdout",
     "output_type": "stream",
     "text": [
      "-0.14506172839506173\n"
     ]
    }
   ],
   "source": [
    "import requests\n",
    "import json\n",
    "import spacy \n",
    "from spacytextblob.spacytextblob import SpacyTextBlob\n",
    "\n",
    "AUTHOR='William Blake'\n",
    "POEM = 'The Tyger'\n",
    "\n",
    "URL = f'https://poetrydb.org/author,title/{AUTHOR};{POEM}'\n",
    "result = json.loads(requests.get(URL).text)\n",
    "poem = '\\n'.join(result[0]['lines'])\n",
    "\n",
    "\n",
    "nlp = spacy.load('en_core_web_sm')\n",
    "text = str(result)\n",
    "nlp.add_pipe(\"spacytextblob\")\n",
    "doc = nlp(text)\n",
    "print(doc._.blob.polarity)\n",
    "\n"
   ]
  },
  {
   "cell_type": "code",
   "execution_count": 8,
   "metadata": {},
   "outputs": [
    {
     "ename": "ModuleNotFoundError",
     "evalue": "No module named 'config'",
     "output_type": "error",
     "traceback": [
      "\u001b[1;31m---------------------------------------------------------------------------\u001b[0m",
      "\u001b[1;31mModuleNotFoundError\u001b[0m                       Traceback (most recent call last)",
      "Cell \u001b[1;32mIn [8], line 1\u001b[0m\n\u001b[1;32m----> 1\u001b[0m \u001b[39mfrom\u001b[39;00m \u001b[39mconfig\u001b[39;00m \u001b[39mimport\u001b[39;00m apikey\n\u001b[0;32m      3\u001b[0m text \u001b[39m=\u001b[39m \u001b[39m\"\u001b[39m\u001b[39mThe Text API is super easy to use and super useful for anyone who needs to do text processing. It\u001b[39m\u001b[39m'\u001b[39m\u001b[39ms the best Text Processing web API and allows you to do amazing NLP without having to download or manage any models.\u001b[39m\u001b[39m\"\u001b[39m\n\u001b[0;32m      4\u001b[0m headers \u001b[39m=\u001b[39m {\n\u001b[0;32m      5\u001b[0m     \u001b[39m\"\u001b[39m\u001b[39mContent-Type\u001b[39m\u001b[39m\"\u001b[39m: \u001b[39m\"\u001b[39m\u001b[39mapplication/json\u001b[39m\u001b[39m\"\u001b[39m,\n\u001b[0;32m      6\u001b[0m     \u001b[39m\"\u001b[39m\u001b[39mapikey\u001b[39m\u001b[39m\"\u001b[39m: apikey\n\u001b[0;32m      7\u001b[0m }\n",
      "\u001b[1;31mModuleNotFoundError\u001b[0m: No module named 'config'"
     ]
    }
   ],
   "source": [
    "from config import apikey\n",
    "\n",
    "text = \"The Text API is super easy to use and super useful for anyone who needs to do text processing. It's the best Text Processing web API and allows you to do amazing NLP without having to download or manage any models.\"\n",
    "headers = {\n",
    "    \"Content-Type\": \"application/json\",\n",
    "    \"apikey\": apikey\n",
    "}\n",
    "body = {\n",
    "    \"text\": text\n",
    "}\n",
    "url = \"https://app.thetextapi.com/text/text_polarity\"\n",
    " \n",
    "response = requests.post(url, headers=headers, json=body)\n",
    "polarity = json.loads(response.text)[\"text polarity\"]\n",
    "print(polarity)"
   ]
  }
 ],
 "metadata": {
  "kernelspec": {
   "display_name": "Python 3.10.8 64-bit (microsoft store)",
   "language": "python",
   "name": "python3"
  },
  "language_info": {
   "codemirror_mode": {
    "name": "ipython",
    "version": 3
   },
   "file_extension": ".py",
   "mimetype": "text/x-python",
   "name": "python",
   "nbconvert_exporter": "python",
   "pygments_lexer": "ipython3",
   "version": "3.10.8"
  },
  "orig_nbformat": 4,
  "vscode": {
   "interpreter": {
    "hash": "0ae41e45250eb696c2277dfbd939b9be222f957334433f60364f37f2e4b8f76d"
   }
  }
 },
 "nbformat": 4,
 "nbformat_minor": 2
}
