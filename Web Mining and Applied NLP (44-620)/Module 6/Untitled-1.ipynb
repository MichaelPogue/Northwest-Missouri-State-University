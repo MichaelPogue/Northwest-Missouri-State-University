{
 "cells": [
  {
   "cell_type": "code",
   "execution_count": 3,
   "metadata": {},
   "outputs": [],
   "source": [
    "# Import Modules\n",
    "import requests\n",
    "from bs4 import BeautifulSoup, SoupStrainer\n",
    "import pickle\n",
    "import spacy\n",
    "from spacytextblob.spacytextblob import SpacyTextBlob\n",
    "from collections import Counter\n",
    "from matplotlib import pyplot as plt\n",
    "from matplotlib import style\n",
    "\n",
    "# List declarative elements\n",
    "parser = 'html.parser'\n",
    "nlp = spacy.load('en_core_web_sm')\n",
    "nlp.add_pipe('spacytextblob')\n",
    "\n",
    "# Aquire Data\n",
    "article_page = requests.get('https://web.archive.org/web/20210327165005/https://hackaday.com/2021/03/22/how-laser-headlights-work/')\n",
    "article_html = article_page.text\n",
    "\n",
    "soup = BeautifulSoup(article_html, parser)\n",
    "\n",
    "article_element = soup.find('article')\n",
    "article_text = article_element.get_text()\n",
    "doc = nlp(article_text.lower())\n",
    "\n",
    "sentences = list(doc.sents)"
   ]
  },
  {
   "cell_type": "code",
   "execution_count": 22,
   "metadata": {},
   "outputs": [
    {
     "name": "stdout",
     "output_type": "stream",
     "text": [
      "29\n",
      "however, that doesn’t mean there aren’t thousands of engineers around the world working to improve the state of the art in automotive lighting day in, day out.\n",
      "\n"
     ]
    },
    {
     "ename": "AttributeError",
     "evalue": "'spacy.tokens.span.Span' object has no attribute 'is_space'",
     "output_type": "error",
     "traceback": [
      "\u001b[1;31m---------------------------------------------------------------------------\u001b[0m",
      "\u001b[1;31mAttributeError\u001b[0m                            Traceback (most recent call last)",
      "Cell \u001b[1;32mIn [22], line 22\u001b[0m\n\u001b[0;32m     19\u001b[0m         \u001b[39mfor\u001b[39;00m top_token \u001b[39min\u001b[39;00m sentences:\n\u001b[0;32m     20\u001b[0m             count1 \u001b[39m+\u001b[39m\u001b[39m=\u001b[39m \u001b[39m1\u001b[39m\n\u001b[1;32m---> 22\u001b[0m total \u001b[39m=\u001b[39m wordCount(sentence)\n",
      "Cell \u001b[1;32mIn [22], line 9\u001b[0m, in \u001b[0;36mwordCount\u001b[1;34m(sentence)\u001b[0m\n\u001b[0;32m      7\u001b[0m     count \u001b[39m=\u001b[39m \u001b[39m0\u001b[39m\n\u001b[0;32m      8\u001b[0m     \u001b[39mfor\u001b[39;00m token \u001b[39min\u001b[39;00m sentence:\n\u001b[1;32m----> 9\u001b[0m         \u001b[39mif\u001b[39;00m \u001b[39mnot\u001b[39;00m (token\u001b[39m.\u001b[39;49mis_space \u001b[39mor\u001b[39;00m token\u001b[39m.\u001b[39mis_punct):\n\u001b[0;32m     10\u001b[0m             count \u001b[39m+\u001b[39m\u001b[39m=\u001b[39m \u001b[39m1\u001b[39m\n\u001b[0;32m     11\u001b[0m sent_str \u001b[39m=\u001b[39m \u001b[39mstr\u001b[39m(sentence)\u001b[39m.\u001b[39mreplace(\u001b[39m'\u001b[39m\u001b[39m\\n\u001b[39;00m\u001b[39m'\u001b[39m, \u001b[39m'\u001b[39m\u001b[39m'\u001b[39m)\u001b[39m.\u001b[39mreplace(\u001b[39m'\u001b[39m\u001b[39m \u001b[39m\u001b[39m'\u001b[39m, \u001b[39m'\u001b[39m\u001b[39m \u001b[39m\u001b[39m'\u001b[39m)\n",
      "\u001b[1;31mAttributeError\u001b[0m: 'spacy.tokens.span.Span' object has no attribute 'is_space'"
     ]
    }
   ],
   "source": [
    "sentences = list(doc.sents)\n",
    "#print(sentences)\n",
    "top_tokens = ['laser', 'headlights', 'technology', 'headlight', 'led']\n",
    "\n",
    "def wordCount(sentence):\n",
    "    for count in sentences: \n",
    "        count = 0\n",
    "        for token in sentence:\n",
    "            if not (token.is_space or token.is_punct):\n",
    "                count += 1\n",
    "    sent_str = str(sentence).replace('\\n', '').replace(' ', ' ')\n",
    "    return count\n",
    "\n",
    "print(wordCount(sentences[2]))\n",
    "print(sentences[2])\n",
    "\n",
    "def score_sentence_by_token(sentence, interesting_token):\n",
    "    for sentence in sentences:\n",
    "        count1 = 0\n",
    "        for top_token in sentences:\n",
    "            count1 += 1\n",
    "\n",
    "total = wordCount(sentence)\n",
    "# print('output: score_sentence_by_token: ', count, total, count/total)"
   ]
  },
  {
   "cell_type": "code",
   "execution_count": null,
   "metadata": {},
   "outputs": [],
   "source": []
  }
 ],
 "metadata": {
  "kernelspec": {
   "display_name": "Python 3.10.8 64-bit (microsoft store)",
   "language": "python",
   "name": "python3"
  },
  "language_info": {
   "codemirror_mode": {
    "name": "ipython",
    "version": 3
   },
   "file_extension": ".py",
   "mimetype": "text/x-python",
   "name": "python",
   "nbconvert_exporter": "python",
   "pygments_lexer": "ipython3",
   "version": "3.10.8"
  },
  "orig_nbformat": 4,
  "vscode": {
   "interpreter": {
    "hash": "0ae41e45250eb696c2277dfbd939b9be222f957334433f60364f37f2e4b8f76d"
   }
  }
 },
 "nbformat": 4,
 "nbformat_minor": 2
}
