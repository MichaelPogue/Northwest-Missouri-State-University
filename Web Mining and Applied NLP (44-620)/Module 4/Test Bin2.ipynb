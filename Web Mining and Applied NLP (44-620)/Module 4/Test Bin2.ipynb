{
 "cells": [
  {
   "cell_type": "code",
   "execution_count": 10,
   "metadata": {},
   "outputs": [
    {
     "ename": "TypeError",
     "evalue": "write() argument must be str, not list",
     "output_type": "error",
     "traceback": [
      "\u001b[1;31m---------------------------------------------------------------------------\u001b[0m",
      "\u001b[1;31mTypeError\u001b[0m                                 Traceback (most recent call last)",
      "Cell \u001b[1;32mIn [10], line 12\u001b[0m\n\u001b[0;32m      9\u001b[0m text\u001b[39m=\u001b[39m\u001b[39mstr\u001b[39m(json_object)\n\u001b[0;32m     11\u001b[0m \u001b[39mwith\u001b[39;00m \u001b[39mopen\u001b[39m(\u001b[39m\"\u001b[39m\u001b[39mchoice_1.json\u001b[39m\u001b[39m\"\u001b[39m, \u001b[39m\"\u001b[39m\u001b[39mw\u001b[39m\u001b[39m\"\u001b[39m) \u001b[39mas\u001b[39;00m outfile:\n\u001b[1;32m---> 12\u001b[0m     outfile\u001b[39m.\u001b[39;49mwrite(json_object)\n",
      "\u001b[1;31mTypeError\u001b[0m: write() argument must be str, not list"
     ]
    }
   ],
   "source": [
    "import requests\n",
    "import json\n",
    "\n",
    "request_name = 'Poe'\n",
    "request_poem = 'Raven'\n",
    "\n",
    "URL = f'https://poetrydb.org/author,title/{request_name};{request_poem}'\n",
    "json_object = json.loads(requests.get(URL).text)\n",
    "text=str(json_object)\n",
    "\n",
    "with open(\"choice_1.json\", \"w\") as outfile:\n",
    "    outfile.write(json_object)"
   ]
  },
  {
   "cell_type": "code",
   "execution_count": null,
   "metadata": {},
   "outputs": [],
   "source": [
    "def list_item_information():\n",
    "    for i in json_object:\n",
    "        body = i['lines']        \n",
    "        print(f\"{'Poem Title:':<14} {i['title']}\")\n",
    "        print(f\"{'Poem Author:':<15}{i['author']}\")\n",
    "        #print(body)"
   ]
  }
 ],
 "metadata": {
  "kernelspec": {
   "display_name": "Python 3.11.0 64-bit",
   "language": "python",
   "name": "python3"
  },
  "language_info": {
   "codemirror_mode": {
    "name": "ipython",
    "version": 3
   },
   "file_extension": ".py",
   "mimetype": "text/x-python",
   "name": "python",
   "nbconvert_exporter": "python",
   "pygments_lexer": "ipython3",
   "version": "3.11.0"
  },
  "orig_nbformat": 4,
  "vscode": {
   "interpreter": {
    "hash": "af31991c939d0d47fd88192dde140282c60bcd0650d9319c70f9d5b7f17cd661"
   }
  }
 },
 "nbformat": 4,
 "nbformat_minor": 2
}
