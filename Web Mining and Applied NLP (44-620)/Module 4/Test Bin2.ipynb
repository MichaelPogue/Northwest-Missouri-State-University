{
 "cells": [
  {
   "cell_type": "code",
   "execution_count": 1,
   "metadata": {},
   "outputs": [],
   "source": [
    "import requests\n",
    "import json\n",
    "import spacy \n",
    "from spacytextblob.spacytextblob import SpacyTextBlob\n",
    "\n",
    "request_name = 'Blake'#'Robinson' # input('What is the name of the author?') 'Rupert Brooke''William Blake'\n",
    "request_poem = 'Tyger'# Home' # input('What is the name of the poem?')'Stanzas of the Rose''The Tyger'\n",
    "\n",
    "URL = f'https://poetrydb.org/author,title/{request_name};{request_poem}'\n",
    "json_object = json.loads(requests.get(URL).text)\n",
    "nlp = spacy.load('en_core_web_sm')\n",
    "text=str(json_object)\n",
    "doc = nlp(text)"
   ]
  },
  {
   "cell_type": "code",
   "execution_count": 10,
   "metadata": {},
   "outputs": [
    {
     "ename": "TypeError",
     "evalue": "write() argument must be str, not list",
     "output_type": "error",
     "traceback": [
      "\u001b[1;31m---------------------------------------------------------------------------\u001b[0m",
      "\u001b[1;31mTypeError\u001b[0m                                 Traceback (most recent call last)",
      "Cell \u001b[1;32mIn [10], line 7\u001b[0m\n\u001b[0;32m      4\u001b[0m list_item_information()\n\u001b[0;32m      6\u001b[0m \u001b[39mwith\u001b[39;00m \u001b[39mopen\u001b[39m(\u001b[39m\"\u001b[39m\u001b[39mtest1.json\u001b[39m\u001b[39m\"\u001b[39m, \u001b[39m\"\u001b[39m\u001b[39mw\u001b[39m\u001b[39m\"\u001b[39m) \u001b[39mas\u001b[39;00m outfile:\n\u001b[1;32m----> 7\u001b[0m     outfile\u001b[39m.\u001b[39;49mwrite(json_object)\n",
      "\u001b[1;31mTypeError\u001b[0m: write() argument must be str, not list"
     ]
    }
   ],
   "source": [
    "def list_item_information():\n",
    "    for i in json_object:        \n",
    "        return i['title']\n",
    "list_item_information()\n",
    "\n",
    "with open(\"test1.json\", \"w\") as outfile:\n",
    "    outfile.write(json_object)"
   ]
  },
  {
   "cell_type": "code",
   "execution_count": 19,
   "metadata": {},
   "outputs": [
    {
     "name": "stdout",
     "output_type": "stream",
     "text": [
      "Poem Title:    The Tyger\n",
      "Poem Author:   William Blake\n"
     ]
    },
    {
     "data": {
      "text/plain": [
       "[{'title': \"The Widow's Home\", 'author': 'Robinson', 'lines': ['Close on the margin of a brawling brook', \"That bathes the low dell's bosom, stands a Cot;\", \"O'ershadow'd by broad Alders. At its door\", 'A rude seat, with an ozier canopy', 'Invites the weary traveller to rest.', \"'Tis a poor humble dwelling; yet within,\", 'The sweets of joy domestic, oft have made', 'The long hour not unchearly, while the Moor', 'Was covered with deep snow, and the bleak blast', \"Swept with impetuous wing the mountain's brow!\", \"On ev'ry tree of the near shelt'ring wood\", 'The minstrelsy of Nature, shrill and wild,', 'Welcomes the stranger guest, and carolling', 'Love-songs, spontaneous, greets him merrily.', 'The distant hills, empurpled by the dawn', \"And thinly scatter'd with blue mists that float\", 'On their bleak summits dimly visible,', 'Skirt the domain luxuriant, while the air', 'Breathes healthful fragrance. On the Cottage roof', 'The gadding Ivy, and the tawny Vine', \"Bind the brown thatch, the shelter'd winter-hut\", 'Of the tame Sparrow, and the Red-breast bold.', '', \"There dwells the Soldier's Widow! young and fair\", 'Yet not more fair than virtuous. Every day', 'She wastes the hour-glass, waiting his return,--', 'And every hour anticipates the day,', \"(Deceiv'd, yet cherish'd by the flatt'rer hope)\", 'When she shall meet her Hero. On the Eve', 'Of Sabbath rest, she trims her little hut', 'With blossoms, fresh and gaudy, still, herself', \"The queen-flow'r of the garland ! The sweet Rose\", \"Of wood-wild beauty, blushing thro' her tears.\", '', 'One little Son she has, a lusty Boy,', 'The darling of her guiltless, mourning heart,', 'The only dear and gay associate', 'Of her lone widowhood. His sun-burnt cheek', \"Is never blanch'd with fear, though he will climb\", \"The broad oak's branches, and with brawny arm\", 'Sever the limpid wave. In his blue eye', \"Beams all his mother's gentleness of soul;\", \"While his brave father's warm intrepid heart\", \"Throbs in his infant bosom. 'Tis a wight\", 'Most valourous, yet pliant as the stem', 'Of the low vale-born lily, when the dew', \"Presses its perfum'd head. Eight years his voice\", \"Has chear'd the homely hut, for he could lisp\", 'Soft words of filial fondness, ere his feet', 'Could measure the smooth path-way.', 'On the hills', 'He watches the wide waste of wavy green', 'Tissued with orient lustre, till his eyes', 'Ache with the dazzling splendour, and the main,', 'Rolling and blazing, seems a second Sun !', 'And, if a distant whitening sail appears,', 'Skimming the bright horizon while the mast', 'Is canopied with clouds of dappled gold,', 'He homeward hastes rejoicing. An old Tree', \"Is his lone watch-tow'r; 'tis a blasted Oak\", 'Which, from a vagrant Acorn, ages past,', 'Sprang up, to triumph like a Savage bold', \"Braving the Season's warfare. There he sits\", 'Silent and musing the long Evening hour,', \"'Till the short reign of Sunny splendour fades\", 'At the cold touch of twilight. Oft he sings;', 'Or from his oaten pipe, untiring pours', 'The tune mellifluous which his father sung,', 'When HE could only listen.', 'On the sands', 'That bind the level sea-shore, will he stray,', 'When morn unlocks the East, and flings afar', 'The rosy day-beam ! There the boy will stop', 'To gather the dank weeds which ocean leaves', \"On the bleak strand, while winter o'er the main\", 'Howls its nocturnal clamour. There again', \"He chaunts his Father's ditty. Never more\", 'Poor mountain minstrel, shall thy bosom throb', 'To the sweet cadence ! never more thy tear', 'Fall as the dulcet breathings give each word', 'Expression magical ! Thy Father, Boy,', 'Sleeps on the bed of death ! His tongue is mute,', 'His fingers have forgot their pliant art,', \"His oaten pipe will ne'er again be heard\", 'Echoing along the valley ! Never more', 'Will thy fond mother meet the balmy smile', 'Of peace domestic, or the circling arm', \"Of valour, temper'd by the milder joys\", 'Of rural merriment. His very name', 'Is now forgotten! for no trophied tomb', 'Tells of his bold exploits; such heraldry', 'Befits not humble worth: For pomp and praise', 'Wait in the gilded palaces of Pride', \"To dress Ambition's Slaves. Yet, on his grave,\", \"The unmark'd resting place of Valour's Sons,\", \"The morning beam shines lust'rous; The meek flow'r\", 'Still drops the twilight tear, and the night breeze', 'Moans melancholy music!', 'Then, to ME,', \"O ! dearer far is the poor Soldier's grave,\", \"The Widow's lone and unregarded Cot,\", 'The brawling Brook, and the wide Alder-bough,', 'The ozier Canopy, and plumy choir,', \"Hymning the Morn's return, than the rich Dome\", 'Of gilded Palaces ! and sweeter far--', 'O! far more graceful ! far more exquisite,', \"The Widow's tear bathing the living rose,\", 'Than the rich ruby, blushing on the breast,', 'Of guilty greatness. Welcome then to me--', \"The WIDOW'S LOWLY HOME : The Soldier's HEIR;\", \"The proud inheritor of Heav'n's best gifts--\", 'The mind unshackled--and the guiltless Soul!'], 'linecount': '110'}]"
      ]
     },
     "execution_count": 19,
     "metadata": {},
     "output_type": "execute_result"
    }
   ],
   "source": [
    "import requests\n",
    "import json\n",
    "import spacy \n",
    "from spacytextblob.spacytextblob import SpacyTextBlob\n",
    "\n",
    "def function(request_name, request_poem):\n",
    "    # Aquire Data\n",
    "    URL = f'https://poetrydb.org/author,title/{request_name};{request_poem}'\n",
    "    result = json.loads(requests.get(URL).text)\n",
    "\n",
    "    # Prepare Data\n",
    "    nlp = spacy.load('en_core_web_sm')\n",
    "    text = str(result)\n",
    "    nlp.add_pipe(\"spacytextblob\")\n",
    "    doc = nlp(text)\n",
    "\n",
    "    # Process Data\n",
    "    p_score = doc._.blob.polarity\n",
    "\n",
    "    # Write Data\n",
    "    for i in json_object:        \n",
    "        print(f\"{'Poem Title:':<14} {i['title']}\")\n",
    "        print(f\"{'Poem Author:':<15}{i['author']}\")\n",
    "    return doc\n",
    "\n",
    "\n",
    "request_name = 'Robinson'#'Robinson' # input('What is the name of the author?') 'Rupert Brooke''William Blake'\n",
    "request_poem = 'Home'# Home' # input('What is the name of the poem?')'Stanzas of the Rose''The Tyger'\n",
    "\n",
    "function(request_name, request_poem)"
   ]
  }
 ],
 "metadata": {
  "kernelspec": {
   "display_name": "Python 3.11.0 64-bit",
   "language": "python",
   "name": "python3"
  },
  "language_info": {
   "codemirror_mode": {
    "name": "ipython",
    "version": 3
   },
   "file_extension": ".py",
   "mimetype": "text/x-python",
   "name": "python",
   "nbconvert_exporter": "python",
   "pygments_lexer": "ipython3",
   "version": "3.11.0"
  },
  "orig_nbformat": 4,
  "vscode": {
   "interpreter": {
    "hash": "af31991c939d0d47fd88192dde140282c60bcd0650d9319c70f9d5b7f17cd661"
   }
  }
 },
 "nbformat": 4,
 "nbformat_minor": 2
}
