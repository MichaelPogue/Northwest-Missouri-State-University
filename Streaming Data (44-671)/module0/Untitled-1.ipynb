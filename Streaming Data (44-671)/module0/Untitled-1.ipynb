{
 "cells": [
  {
   "cell_type": "code",
   "execution_count": 1,
   "metadata": {},
   "outputs": [],
   "source": [
    "import os\n",
    "import csv\n",
    "import pandas as pd\n",
    "\n",
    "BASE_FILE = 'batchfile_0_farenheit.csv'\n",
    "input_file_name = 'batchfile_2_kelvin.csv'\n",
    "output_file_name = 'batchfile_3_farenheit.csv'"
   ]
  },
  {
   "cell_type": "code",
   "execution_count": 2,
   "metadata": {},
   "outputs": [
    {
     "ename": "FileNotFoundError",
     "evalue": "[Errno 2] No such file or directory: 'batchfile_0_farenheit.csv'",
     "output_type": "error",
     "traceback": [
      "\u001b[1;31m---------------------------------------------------------------------------\u001b[0m",
      "\u001b[1;31mFileNotFoundError\u001b[0m                         Traceback (most recent call last)",
      "Cell \u001b[1;32mIn[2], line 3\u001b[0m\n\u001b[0;32m      1\u001b[0m input_file_name \u001b[39m=\u001b[39m \u001b[39m\"\u001b[39m\u001b[39mbatchfile_0_farenheit.csv\u001b[39m\u001b[39m\"\u001b[39m\n\u001b[0;32m      2\u001b[0m output_file_name \u001b[39m=\u001b[39m \u001b[39m\"\u001b[39m\u001b[39mbatchfile_1_celcius.csv\u001b[39m\u001b[39m\"\u001b[39m\n\u001b[1;32m----> 3\u001b[0m input_file \u001b[39m=\u001b[39m \u001b[39mopen\u001b[39;49m(input_file_name, \u001b[39m\"\u001b[39;49m\u001b[39mr\u001b[39;49m\u001b[39m\"\u001b[39;49m)\n\u001b[0;32m      4\u001b[0m output_file \u001b[39m=\u001b[39m \u001b[39mopen\u001b[39m(output_file_name, \u001b[39m\"\u001b[39m\u001b[39mw\u001b[39m\u001b[39m\"\u001b[39m, newline\u001b[39m=\u001b[39m\u001b[39m'\u001b[39m\u001b[39m'\u001b[39m)\n\u001b[0;32m      6\u001b[0m reader \u001b[39m=\u001b[39m csv\u001b[39m.\u001b[39mreader(input_file, delimiter\u001b[39m=\u001b[39m\u001b[39m\"\u001b[39m\u001b[39m,\u001b[39m\u001b[39m\"\u001b[39m)\n",
      "File \u001b[1;32m~\\AppData\\Local\\Packages\\PythonSoftwareFoundation.Python.3.11_qbz5n2kfra8p0\\LocalCache\\local-packages\\Python311\\site-packages\\IPython\\core\\interactiveshell.py:282\u001b[0m, in \u001b[0;36m_modified_open\u001b[1;34m(file, *args, **kwargs)\u001b[0m\n\u001b[0;32m    275\u001b[0m \u001b[39mif\u001b[39;00m file \u001b[39min\u001b[39;00m {\u001b[39m0\u001b[39m, \u001b[39m1\u001b[39m, \u001b[39m2\u001b[39m}:\n\u001b[0;32m    276\u001b[0m     \u001b[39mraise\u001b[39;00m \u001b[39mValueError\u001b[39;00m(\n\u001b[0;32m    277\u001b[0m         \u001b[39mf\u001b[39m\u001b[39m\"\u001b[39m\u001b[39mIPython won\u001b[39m\u001b[39m'\u001b[39m\u001b[39mt let you open fd=\u001b[39m\u001b[39m{\u001b[39;00mfile\u001b[39m}\u001b[39;00m\u001b[39m by default \u001b[39m\u001b[39m\"\u001b[39m\n\u001b[0;32m    278\u001b[0m         \u001b[39m\"\u001b[39m\u001b[39mas it is likely to crash IPython. If you know what you are doing, \u001b[39m\u001b[39m\"\u001b[39m\n\u001b[0;32m    279\u001b[0m         \u001b[39m\"\u001b[39m\u001b[39myou can use builtins\u001b[39m\u001b[39m'\u001b[39m\u001b[39m open.\u001b[39m\u001b[39m\"\u001b[39m\n\u001b[0;32m    280\u001b[0m     )\n\u001b[1;32m--> 282\u001b[0m \u001b[39mreturn\u001b[39;00m io_open(file, \u001b[39m*\u001b[39;49margs, \u001b[39m*\u001b[39;49m\u001b[39m*\u001b[39;49mkwargs)\n",
      "\u001b[1;31mFileNotFoundError\u001b[0m: [Errno 2] No such file or directory: 'batchfile_0_farenheit.csv'"
     ]
    }
   ],
   "source": [
    "input_file_name = \"batchfile_0_farenheit.csv\"\n",
    "output_file_name = \"batchfile_1_celcius.csv\"\n",
    "input_file = open(input_file_name, \"r\")\n",
    "output_file = open(output_file_name, \"w\", newline='')\n",
    "\n",
    "reader = csv.reader(input_file, delimiter=\",\")\n",
    "writer = csv.writer(output_file, delimiter=\",\")\n",
    "\n",
    "header = next(reader)\n",
    "\n",
    "header_list = [\"Year\",\"Month\",\"Day\",\"Time\",\"TempC\"]\n",
    "writer.writerow(header_list)\n",
    "\n",
    "for row in reader:\n",
    "    Year, Month, Day, Time, TempF = row\n",
    "    TempC = round((float(TempF) - 32.0) * 5.0 / 9.0,2)\n",
    "    writer.writerow([Year, Month, Day, Time, TempC])\n",
    "\n",
    "\n",
    "output_file.close()\n",
    "input_file.close()\n"
   ]
  }
 ],
 "metadata": {
  "kernelspec": {
   "display_name": "Python 3",
   "language": "python",
   "name": "python3"
  },
  "language_info": {
   "codemirror_mode": {
    "name": "ipython",
    "version": 3
   },
   "file_extension": ".py",
   "mimetype": "text/x-python",
   "name": "python",
   "nbconvert_exporter": "python",
   "pygments_lexer": "ipython3",
   "version": "3.11.1"
  },
  "orig_nbformat": 4,
  "vscode": {
   "interpreter": {
    "hash": "863b3a55134ab839f8749329ac3d58c92f67b3b74d9daad2228f98af9c593ba4"
   }
  }
 },
 "nbformat": 4,
 "nbformat_minor": 2
}
