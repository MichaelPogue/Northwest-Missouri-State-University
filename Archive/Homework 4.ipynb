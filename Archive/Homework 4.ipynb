{
 "cells": [
  {
   "cell_type": "code",
   "execution_count": 1,
   "id": "84068935",
   "metadata": {},
   "outputs": [],
   "source": [
    "from sqlalchemy import create_engine\n",
    "import pandas as pd\n",
    "%matplotlib inline"
   ]
  },
  {
   "cell_type": "code",
   "execution_count": 2,
   "id": "1247db87",
   "metadata": {},
   "outputs": [
    {
     "name": "stdout",
     "output_type": "stream",
     "text": [
      "postgresql+psycopg2://{username}:{pswd}@{host}:{port}/{database}\n"
     ]
    }
   ],
   "source": [
    "cnxn_string = (\"postgresql+psycopg2://{username}:{pswd}\"\n",
    "              \"@{host}:{port}/{database}\")\n",
    "print(cnxn_string)\n"
   ]
  },
  {
   "cell_type": "code",
   "execution_count": 3,
   "id": "935f9ef1",
   "metadata": {},
   "outputs": [],
   "source": [
    "engine = create_engine(cnxn_string.format(\n",
    "username = \"postgres\",\n",
    "pswd=\"0880\",\n",
    "host=\"localhost\",\n",
    "port=5432,\n",
    "database=\"school\"))\n"
   ]
  },
  {
   "cell_type": "code",
   "execution_count": 70,
   "id": "638248a6",
   "metadata": {},
   "outputs": [
    {
     "data": {
      "text/plain": [
       "[(1, 'Kabul                              ', 'AFG', 'Kabol               ', 1780000),\n",
       " (2, 'Qandahar                           ', 'AFG', 'Qandahar            ', 237500)]"
      ]
     },
     "execution_count": 70,
     "metadata": {},
     "output_type": "execute_result"
    }
   ],
   "source": [
    "engine.execute(\"select * from city limit 2;\").fetchall()"
   ]
  },
  {
   "cell_type": "code",
   "execution_count": 71,
   "id": "487e165b",
   "metadata": {},
   "outputs": [],
   "source": [
    "language_data = pd.read_sql_table('countrylanguage',engine)"
   ]
  },
  {
   "cell_type": "code",
   "execution_count": 98,
   "id": "c9556a0b",
   "metadata": {},
   "outputs": [],
   "source": [
    "query = \"\"\"\n",
    "SELECT\n",
    "\n",
    "DISTINCT\n",
    "\n",
    "countrylanguage.countrycode AS \"Country Code\", COUNT(countrylanguage.isofficial) AS \"Language\"\n",
    "\n",
    "FROM\n",
    "\n",
    "countrylanguage\n",
    "\n",
    "WHERE\n",
    "\n",
    "isofficial = 'T'\n",
    "\n",
    "GROUP BY\n",
    "\n",
    "countrycode\n",
    "\n",
    "HAVING\n",
    "\n",
    "COUNT(countrylanguage.isofficial) > \n",
    "\n",
    ";\n",
    "\"\"\"\n"
   ]
  },
  {
   "cell_type": "code",
   "execution_count": 99,
   "id": "72dd40ad",
   "metadata": {},
   "outputs": [],
   "source": [
    "language_data = pd.read_sql_query(query, engine)"
   ]
  },
  {
   "cell_type": "code",
   "execution_count": 100,
   "id": "a8f68760",
   "metadata": {},
   "outputs": [
    {
     "data": {
      "text/html": [
       "<div>\n",
       "<style scoped>\n",
       "    .dataframe tbody tr th:only-of-type {\n",
       "        vertical-align: middle;\n",
       "    }\n",
       "\n",
       "    .dataframe tbody tr th {\n",
       "        vertical-align: top;\n",
       "    }\n",
       "\n",
       "    .dataframe thead th {\n",
       "        text-align: right;\n",
       "    }\n",
       "</style>\n",
       "<table border=\"1\" class=\"dataframe\">\n",
       "  <thead>\n",
       "    <tr style=\"text-align: right;\">\n",
       "      <th></th>\n",
       "      <th>Country Code</th>\n",
       "      <th>Language</th>\n",
       "    </tr>\n",
       "  </thead>\n",
       "  <tbody>\n",
       "    <tr>\n",
       "      <th>0</th>\n",
       "      <td>VUT</td>\n",
       "      <td>3</td>\n",
       "    </tr>\n",
       "    <tr>\n",
       "      <th>1</th>\n",
       "      <td>CHE</td>\n",
       "      <td>4</td>\n",
       "    </tr>\n",
       "    <tr>\n",
       "      <th>2</th>\n",
       "      <td>LUX</td>\n",
       "      <td>3</td>\n",
       "    </tr>\n",
       "    <tr>\n",
       "      <th>3</th>\n",
       "      <td>ZAF</td>\n",
       "      <td>4</td>\n",
       "    </tr>\n",
       "    <tr>\n",
       "      <th>4</th>\n",
       "      <td>BEL</td>\n",
       "      <td>3</td>\n",
       "    </tr>\n",
       "    <tr>\n",
       "      <th>5</th>\n",
       "      <td>BOL</td>\n",
       "      <td>3</td>\n",
       "    </tr>\n",
       "    <tr>\n",
       "      <th>6</th>\n",
       "      <td>PER</td>\n",
       "      <td>3</td>\n",
       "    </tr>\n",
       "    <tr>\n",
       "      <th>7</th>\n",
       "      <td>SGP</td>\n",
       "      <td>3</td>\n",
       "    </tr>\n",
       "  </tbody>\n",
       "</table>\n",
       "</div>"
      ],
      "text/plain": [
       "  Country Code  Language\n",
       "0          VUT         3\n",
       "1          CHE         4\n",
       "2          LUX         3\n",
       "3          ZAF         4\n",
       "4          BEL         3\n",
       "5          BOL         3\n",
       "6          PER         3\n",
       "7          SGP         3"
      ]
     },
     "execution_count": 100,
     "metadata": {},
     "output_type": "execute_result"
    }
   ],
   "source": [
    "language_data"
   ]
  },
  {
   "cell_type": "code",
   "execution_count": null,
   "id": "ca33f28f",
   "metadata": {},
   "outputs": [],
   "source": []
  }
 ],
 "metadata": {
  "kernelspec": {
   "display_name": "Python 3 (ipykernel)",
   "language": "python",
   "name": "python3"
  },
  "language_info": {
   "codemirror_mode": {
    "name": "ipython",
    "version": 3
   },
   "file_extension": ".py",
   "mimetype": "text/x-python",
   "name": "python",
   "nbconvert_exporter": "python",
   "pygments_lexer": "ipython3",
   "version": "3.9.12"
  }
 },
 "nbformat": 4,
 "nbformat_minor": 5
}
