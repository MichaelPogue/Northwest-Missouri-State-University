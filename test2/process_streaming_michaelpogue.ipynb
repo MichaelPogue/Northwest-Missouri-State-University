{
 "cells": [
  {
   "cell_type": "code",
   "execution_count": null,
   "metadata": {},
   "outputs": [],
   "source": [
    "import csv\n",
    "import socket\n",
    "import time\n",
    "\n",
    "# host = \"localhost\"\n",
    "# port = 9999\n",
    "# address_tuple = (host, port)\n",
    "\n",
    "# socket_family = socket.AF_INET \n",
    "# socket_type = socket.SOCK_DGRAM \n",
    "# sock = socket.socket(socket.AF_INET, socket.SOCK_DGRAM) \n",
    "input_file = open(\"dice_com-job_us_sample.csv\", \"r\")\n",
    "output_file = open(\"out9.txt\", \"w\", newline='')\n",
    "\n",
    "reader = csv.reader(input_file, delimiter=\",\")\n",
    "\n",
    "\n",
    "writer = csv.writer(output_file, delimiter=\",\")\n",
    "# header = next(reader)\n",
    "# header_list = [\"Year\",\"Month\",\"Day\",\"Time\",\"Temp\"]\n",
    "# writer.writerow(header_list)\n",
    "\n",
    "for row in reader:\n",
    "    # advertiserurl, company, employmenttype_jobstatus, jobdescription, jobid, joblocation_address, jobtitle, postdate, shift, site_name, skills, uniq_id = row\n",
    "    # fstring_message = f\"[{advertiserurl}, {company}, {employmenttype_jobstatus}, {jobdescription}, {jobid}, {joblocation_address}, {jobtitle}, {postdate}, {shift}, {site_name}, {skills}, {uniq_id}]\"\n",
    "#     MESSAGE = fstring_message.encode()\n",
    "#     sock.sendto(MESSAGE, address_tuple)\n",
    "#     print (f\"Sent: {MESSAGE} on port {port}.\")\n",
    "#     print('V ADDITION V')\n",
    "#     TempK = round((float(TempF) - 32.0) * 5.0 / 9.0,2)\n",
    "    # writer.writerow([advertiserurl, company, employmenttype_jobstatus, jobdescription, jobid, joblocation_address, jobtitle, postdate, shift, site_name, skills, uniq_id])\n",
    "    time.sleep(1)\n"
   ]
  },
  {
   "cell_type": "code",
   "execution_count": 5,
   "metadata": {},
   "outputs": [
    {
     "name": "stdout",
     "output_type": "stream",
     "text": [
      "The game Freddi Fish 3: The Case of the Stolen Conch Shell on the NS has been added to the list!\n",
      "The game Putt-Putt Travels Through Time on the NS has been added to the list!\n",
      "The game Deep Rock Galactic on the PS4, PS5 has been added to the list!\n",
      "The game The Pedestrian on the XBO, XSX has been added to the list!\n",
      "The game Demon Gaze Extra on the NS, PS4 has been added to the list!\n",
      "The game QuickSpot on the NS has been added to the list!\n",
      "The game Japanese Rail Sim: Journey to Kyoto on the NS has been added to the list!\n",
      "The game Picross S7 on the NS has been added to the list!\n",
      "The game Monster Hunter Rise on the Win has been added to the list!\n",
      "The game SNK vs. Capcom: Card Fighters Clash on the NS has been added to the list!\n"
     ]
    },
    {
     "ename": "KeyboardInterrupt",
     "evalue": "",
     "output_type": "error",
     "traceback": [
      "\u001b[1;31m---------------------------------------------------------------------------\u001b[0m",
      "\u001b[1;31mKeyboardInterrupt\u001b[0m                         Traceback (most recent call last)",
      "Cell \u001b[1;32mIn[5], line 22\u001b[0m\n\u001b[0;32m     20\u001b[0m writer\u001b[39m.\u001b[39mwriterow([Month, Day, Title, Platform, Genre, Developer, Publisher])\n\u001b[0;32m     21\u001b[0m \u001b[39mprint\u001b[39m(\u001b[39mf\u001b[39m\u001b[39m'\u001b[39m\u001b[39mThe game \u001b[39m\u001b[39m{\u001b[39;00mTitle\u001b[39m}\u001b[39;00m\u001b[39m on the \u001b[39m\u001b[39m{\u001b[39;00mPlatform\u001b[39m}\u001b[39;00m\u001b[39m has been added to the list!\u001b[39m\u001b[39m'\u001b[39m)\n\u001b[1;32m---> 22\u001b[0m time\u001b[39m.\u001b[39msleep(\u001b[39m1\u001b[39m)\n",
      "\u001b[1;31mKeyboardInterrupt\u001b[0m: "
     ]
    }
   ],
   "source": [
    "import csv\n",
    "import socket\n",
    "import time\n",
    "\n",
    "input_file_name = \"video-games-2022.csv\"\n",
    "output_file_name = \"out9.txt\"\n",
    "input_file = open(input_file_name, \"r\")\n",
    "output_file = open(output_file_name, \"w\", newline='')\n",
    "\n",
    "# Create read and write environment. \n",
    "reader = csv.reader(input_file, delimiter=\",\")\n",
    "writer = csv.writer(output_file, delimiter=\",\")\n",
    "header = next(reader)\n",
    "header_list = ['Month', 'Title', 'Platform(s)', 'Genre(s)', 'Developer(s)', 'Publisher(s)']\n",
    "writer.writerow(header_list)\n",
    "\n",
    "# Line by line reading and converstion.\n",
    "for row in reader:\n",
    "    Month, Day, Title, Platform, Genre, Developer, Publisher = row\n",
    "    writer.writerow([Month, Day, Title, Platform, Genre, Developer, Publisher])\n",
    "    print(f'The game {Title} on the {Platform} has been added to the list!')\n",
    "    time.sleep(1)\n",
    "\n"
   ]
  },
  {
   "cell_type": "code",
   "execution_count": 4,
   "metadata": {},
   "outputs": [],
   "source": [
    "output_file.close()\n",
    "input_file.close()"
   ]
  }
 ],
 "metadata": {
  "kernelspec": {
   "display_name": "Python 3",
   "language": "python",
   "name": "python3"
  },
  "language_info": {
   "codemirror_mode": {
    "name": "ipython",
    "version": 3
   },
   "file_extension": ".py",
   "mimetype": "text/x-python",
   "name": "python",
   "nbconvert_exporter": "python",
   "pygments_lexer": "ipython3",
   "version": "3.11.1"
  },
  "orig_nbformat": 4,
  "vscode": {
   "interpreter": {
    "hash": "863b3a55134ab839f8749329ac3d58c92f67b3b74d9daad2228f98af9c593ba4"
   }
  }
 },
 "nbformat": 4,
 "nbformat_minor": 2
}
