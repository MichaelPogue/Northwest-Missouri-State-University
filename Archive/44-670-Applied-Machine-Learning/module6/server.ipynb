{
 "cells": [
  {
   "cell_type": "code",
   "execution_count": 15,
   "metadata": {},
   "outputs": [],
   "source": [
    "import pickle\n",
    "from logging import exception\n",
    "from flask import Flask, jsonify, request, abort\n",
    "\n",
    "filename = 'finalized_model.sav'\n",
    "loaded_model = pickle.load(open(filename, 'rb'))\n",
    "app = Flask(__name__)\n",
    "\n",
    "@app.route('/', methods = ['GET'])\n",
    "\n",
    "def home():\n",
    "    if(request.method == 'GET'):\n",
    "        data = \"API Example: /weight?height=130.3\"\n",
    "    return data\n",
    "\n",
    "@app.route('/weight', methods = ['GET'])\n",
    "def disp():\n",
    "    height = request.args.get(\"height\")\n",
    "    if height is None:\n",
    "        abort(400, 'Missing height query parameter')\n",
    "    try:\n",
    "        height = float(height)\n",
    "    except ValueError:\n",
    "        abort(400, 'Height query parameter not float')\n",
    "\n",
    "    try:\n",
    "        weight = loaded_model.predict([[height]])[0]\n",
    "    except Exception:\n",
    "        abort(400, 'Model prediction failed')\n",
    "\n",
    "    response = {}\n",
    "    response[\"height\"] = height\n",
    "    response[\"weight\"] = weight\n",
    "    return jsonify(response)\n",
    "\n",
    "if __name__ == '__main__':\n",
    "    app.run"
   ]
  }
 ],
 "metadata": {
  "kernelspec": {
   "display_name": "Python 3",
   "language": "python",
   "name": "python3"
  },
  "language_info": {
   "codemirror_mode": {
    "name": "ipython",
    "version": 3
   },
   "file_extension": ".py",
   "mimetype": "text/x-python",
   "name": "python",
   "nbconvert_exporter": "python",
   "pygments_lexer": "ipython3",
   "version": "3.11.3"
  },
  "orig_nbformat": 4
 },
 "nbformat": 4,
 "nbformat_minor": 2
}
