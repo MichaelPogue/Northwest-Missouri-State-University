{
 "cells": [
  {
   "attachments": {},
   "cell_type": "markdown",
   "metadata": {},
   "source": [
    "Attempt 1"
   ]
  },
  {
   "cell_type": "code",
   "execution_count": null,
   "metadata": {},
   "outputs": [],
   "source": [
    "# import csv\n",
    "# import socket\n",
    "# import time\n",
    "\n",
    "# host = \"localhost\"\n",
    "# port = 9999\n",
    "# address_tuple = (host, port)\n",
    "\n",
    "# socket_family = socket.AF_INET \n",
    "# socket_type = socket.SOCK_DGRAM \n",
    "# sock = socket.socket(socket.AF_INET, socket.SOCK_DGRAM) \n",
    "# input_file = open(\"batchfile_0_farenheit.csv\", \"r\")\n",
    "# output_file = open(\"batchfile_1_celcius.csv\", \"w\", newline='')\n",
    "# reversed = sorted(input_file)\n",
    "# reader = csv.reader(reversed, delimiter=\",\")\n",
    "\n",
    "\n",
    "# writer = csv.writer(output_file, delimiter=\",\")\n",
    "# header = next(reader)\n",
    "# header_list = [\"Year\",\"Month\",\"Day\",\"Time\",\"Temp\"]\n",
    "# writer.writerow(header_list)\n",
    "\n",
    "\n",
    "# for row in reader:\n",
    "#     Year, Month, Day, Time, TempF = row\n",
    "#     fstring_message = f\"[{Year}, {Month}, {Day}, {Time}, {TempF}]\"\n",
    "#     MESSAGE = fstring_message.encode()\n",
    "#     sock.sendto(MESSAGE, address_tuple)\n",
    "#     print (f\"Sent: {MESSAGE} on port {port}.\")\n",
    "#     print('V ADDITION V')\n",
    "#     TempK = round((float(TempF) - 32.0) * 5.0 / 9.0,2)\n",
    "#     writer.writerow([Year, Month, Day, Time, TempK])\n",
    "#     time.sleep(3)\n"
   ]
  },
  {
   "attachments": {},
   "cell_type": "markdown",
   "metadata": {},
   "source": [
    "Attempt 2"
   ]
  },
  {
   "cell_type": "code",
   "execution_count": 1,
   "metadata": {},
   "outputs": [],
   "source": [
    "import csv\n",
    "import socket\n",
    "import time\n",
    "import multiprocessing\n",
    "import os\n",
    "\n",
    "host = \"localhost\"\n",
    "port = 9999\n",
    "address_tuple = (host, port)\n",
    "\n",
    "socket_family = socket.AF_INET \n",
    "socket_type = socket.SOCK_DGRAM \n",
    "sock = socket.socket(socket.AF_INET, socket.SOCK_DGRAM)\n",
    "\n",
    "input_file = open(\"batchfile_0_farenheit.csv\", \"r\")\n",
    "reversed = sorted(input_file)\n",
    "reader = csv.reader(reversed, delimiter=\",\")\n",
    "\n",
    "def jobOne():\n",
    "    for row in reader:\n",
    "        # read a row from the file\n",
    "        Year, Month, Day, Time, TempF = row\n",
    "\n",
    "        # use an fstring to create a message from our data\n",
    "        # notice the f before the opening quote for our string?\n",
    "        fstring_message = f\"[{Year}, {Month}, {Day}, {Time}, {TempF}]\"\n",
    "        \n",
    "        # prepare a binary (1s and 0s) message to stream\n",
    "        MESSAGE = fstring_message.encode()\n",
    "\n",
    "        # use the socket sendto() method to send the message\n",
    "        sock.sendto(MESSAGE, address_tuple)\n",
    "        print (f\"Sent: {MESSAGE} on port {port}.\")\n",
    "\n",
    "        # sleep for a few seconds\n",
    "        time.sleep(1)\n",
    "\n",
    "def jobTwo():\n",
    "    # Set input and output.\n",
    "    input_file_name = \"batchfile_0_farenheit.csv\"\n",
    "    output_file_name = \"batchfile_1_celcius.csv\"\n",
    "    input_file = open(input_file_name, \"r\")\n",
    "    output_file = open(output_file_name, \"w\", newline='')\n",
    "\n",
    "    # Create read and write environment. \n",
    "    reader = csv.reader(input_file, delimiter=\",\")\n",
    "    writer = csv.writer(output_file, delimiter=\",\")\n",
    "    header = next(reader)\n",
    "    header_list = [\"Year\",\"Month\",\"Day\",\"Time\",\"TempC\"]\n",
    "    writer.writerow(header_list)\n",
    "\n",
    "    # Line by line reading and converstion.\n",
    "    for row in reader:\n",
    "        Year, Month, Day, Time, TempA = row\n",
    "        TempB = round((float(TempA) - 32.0) * 5.0 / 9.0,2)\n",
    "        writer.writerow([Year, Month, Day, Time, TempB])\n",
    "        print (f\"Sent: {TempA} on port {TempB}.\")\n",
    "        time.sleep(2)\n",
    "\n",
    "\n",
    "if __name__ == \"__main__\":\n",
    "    p1 = multiprocessing.Process(target=jobOne)\n",
    "    p2 = multiprocessing.Process(target=jobTwo)\n",
    "\n",
    "    # start each process\n",
    "    p1.start()\n",
    "    p2.start()\n",
    "\n",
    "    # wait for a processes to finish and rejoin the flow of execution\n",
    "    p1.join()\n",
    "    p2.join()"
   ]
  }
 ],
 "metadata": {
  "kernelspec": {
   "display_name": "Python 3",
   "language": "python",
   "name": "python3"
  },
  "language_info": {
   "codemirror_mode": {
    "name": "ipython",
    "version": 3
   },
   "file_extension": ".py",
   "mimetype": "text/x-python",
   "name": "python",
   "nbconvert_exporter": "python",
   "pygments_lexer": "ipython3",
   "version": "3.11.1"
  },
  "orig_nbformat": 4,
  "vscode": {
   "interpreter": {
    "hash": "863b3a55134ab839f8749329ac3d58c92f67b3b74d9daad2228f98af9c593ba4"
   }
  }
 },
 "nbformat": 4,
 "nbformat_minor": 2
}
