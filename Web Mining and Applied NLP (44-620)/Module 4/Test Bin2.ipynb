{
 "cells": [
  {
   "cell_type": "code",
   "execution_count": 33,
   "metadata": {},
   "outputs": [
    {
     "name": "stdout",
     "output_type": "stream",
     "text": [
      "Poem Title:         Stanzas to the Rose\n",
      "Poem Author:        Robinson\n",
      "Polarity Score:     0.33\n",
      "\n",
      " [\"SWEET PICTURE of Life's chequer'd hour!\", 'Ah, wherefore droop thy blushing head?', \"Tell me, oh tell me, hap'less flow'r,\", 'Is it because thy charms are fled?', 'Come, gentle ROSE, and learn from me', 'A lesson of Philosophy.', '', \"Thy scented buds, LIFE'S joys disclose;\", 'They strew our paths with magic sweets;', 'Where many a thorn like thine, fair ROSE,', \"Full oft the weary wand'rer meets;\", 'And when he sees thy charms depart,', 'He feels thy thorn within his heart.', '', \"When Morn's bright torch illum'd the sky,\", \"Vainly thy flaunting buds display'd\", \"Enamell'd leaves of crimson die,\", \"Ill-fated blossoms doom'd to fade;\", \"So 'tis with BEAUTY, hapless flow'r,\", 'Its lustre blooms but for an hour.', '', 'Come blushing ROSE, and on my breast', 'Recline thy gentle head, and die;', \"Thy scatter'd leaves shall there be press'd,\", \"Bath'd with a tear from PITY'S eye;\", 'There shall thy balmy sweets impart', 'An essence grateful to my heart.', '', \"Thus SYMPATHY, with lenient pow'r,\", 'Shall bid thy fading charms bestow', \"Soft odours for life's happy hour,\", 'Kind, healing balsam for its woe!', 'If such thy virtues, ROSE DIVINE!', 'OH ! MAY THY ENVIED FATE BE MINE.']\n"
     ]
    }
   ],
   "source": [
    "# Import required modules\n",
    "import requests\n",
    "import json\n",
    "import spacy \n",
    "from spacytextblob.spacytextblob import SpacyTextBlob\n",
    "\n",
    "#%%%%% DELETE MEEEEEE https://poetrydb.org/author/Thomas%20Moore\n",
    "\n",
    "# Create function\n",
    "def func_write_song_from_api_to_json(request_name, request_poem):\n",
    "    # Pull function's data\n",
    "    URL = f'https://poetrydb.org/author,title/{request_name};{request_poem}'\n",
    "    json_object = json.loads(requests.get(URL).text)\n",
    "    \n",
    "    # Sentiment analysis\n",
    "    nlp = spacy.load('en_core_web_sm')\n",
    "    nlp.add_pipe(\"spacytextblob\")\n",
    "    \n",
    "    # Modify data\n",
    "    text = str(json_object)\n",
    "    doc = nlp(text)    \n",
    "    p_score = doc._.blob.polarity\n",
    "    \n",
    "    # Print information\n",
    "    for i in json_object:\n",
    "        body = i['lines']  \n",
    "        title = i['title']\n",
    "        print(f\"{'Poem Title:':<19} {i['title']}\")\n",
    "        print(f\"{'Poem Author:':<20}{i['author']}\")\n",
    "        print(f\"{'Polarity Score:':<20}{round(p_score,2)}\")\n",
    "        print('\\n',body)\n",
    "    \n",
    "    # Write the data\n",
    "    with open(f\"{title}.json\", \"w\") as outfile:\n",
    "        json.dump(json_object, outfile)\n",
    "\n",
    "# Define variables\n",
    "request_name = 'Robinson' #input('What is the full name of the author?')\n",
    "request_poem = 'Stanzas to the Rose' #input('What is the name of the poem?')          \n",
    "\n",
    "# Execute function\n",
    "func_write_song_from_api_to_json(request_name, request_poem)\n",
    "\n",
    "# file1 = 'The Tyger'             # 'William Blake'  \n",
    "# file2 = 'The Alley'             # 'Alexander Pope'\n",
    "# file3 = 'Stanzas to the Rose'   # 'Robinson'\n"
   ]
  },
  {
   "cell_type": "code",
   "execution_count": 38,
   "metadata": {},
   "outputs": [
    {
     "name": "stdout",
     "output_type": "stream",
     "text": [
      "Poem Title:         Stanzas to the Rose\n",
      "Poem Author:        Robinson\n",
      "Polarity Score:     0.33\n",
      "\n",
      " [\"SWEET PICTURE of Life's chequer'd hour!\", 'Ah, wherefore droop thy blushing head?', \"Tell me, oh tell me, hap'less flow'r,\", 'Is it because thy charms are fled?', 'Come, gentle ROSE, and learn from me', 'A lesson of Philosophy.', '', \"Thy scented buds, LIFE'S joys disclose;\", 'They strew our paths with magic sweets;', 'Where many a thorn like thine, fair ROSE,', \"Full oft the weary wand'rer meets;\", 'And when he sees thy charms depart,', 'He feels thy thorn within his heart.', '', \"When Morn's bright torch illum'd the sky,\", \"Vainly thy flaunting buds display'd\", \"Enamell'd leaves of crimson die,\", \"Ill-fated blossoms doom'd to fade;\", \"So 'tis with BEAUTY, hapless flow'r,\", 'Its lustre blooms but for an hour.', '', 'Come blushing ROSE, and on my breast', 'Recline thy gentle head, and die;', \"Thy scatter'd leaves shall there be press'd,\", \"Bath'd with a tear from PITY'S eye;\", 'There shall thy balmy sweets impart', 'An essence grateful to my heart.', '', \"Thus SYMPATHY, with lenient pow'r,\", 'Shall bid thy fading charms bestow', \"Soft odours for life's happy hour,\", 'Kind, healing balsam for its woe!', 'If such thy virtues, ROSE DIVINE!', 'OH ! MAY THY ENVIED FATE BE MINE.']\n"
     ]
    }
   ],
   "source": [
    "file1 = 'The Tyger'             # 'William Blake'  \n",
    "file2 = 'The Alley'             # 'Alexander Pope'\n",
    "file3 = 'Stanzas to the Rose'   # 'Robinson'\n",
    "\n",
    "def func_read_song_from_api_in_json(file_choice):\n",
    "    nlp = spacy.load('en_core_web_sm')\n",
    "    nlp.add_pipe(\"spacytextblob\") \n",
    "    with open(f'{file_choice}.json','r') as file:\n",
    "        json_data = json.load(file)\n",
    "\n",
    "    text = str(json_data)\n",
    "    doc = nlp(text)    \n",
    "    p_score = doc._.blob.polarity\n",
    "\n",
    "    for i in json_data:\n",
    "        body = i['lines']  \n",
    "        print(f\"{'Poem Title:':<19} {i['title']}\")\n",
    "        print(f\"{'Poem Author:':<20}{i['author']}\")\n",
    "        print(f\"{'Polarity Score:':<20}{round(p_score,2)}\")\n",
    "        print('\\n',body)\n",
    "\n",
    "\n",
    "func_read_song_from_api_in_json(file3)\n"
   ]
  },
  {
   "cell_type": "code",
   "execution_count": null,
   "metadata": {},
   "outputs": [],
   "source": []
  }
 ],
 "metadata": {
  "kernelspec": {
   "display_name": "Python 3.11.0 64-bit",
   "language": "python",
   "name": "python3"
  },
  "language_info": {
   "codemirror_mode": {
    "name": "ipython",
    "version": 3
   },
   "file_extension": ".py",
   "mimetype": "text/x-python",
   "name": "python",
   "nbconvert_exporter": "python",
   "pygments_lexer": "ipython3",
   "version": "3.11.0"
  },
  "orig_nbformat": 4,
  "vscode": {
   "interpreter": {
    "hash": "af31991c939d0d47fd88192dde140282c60bcd0650d9319c70f9d5b7f17cd661"
   }
  }
 },
 "nbformat": 4,
 "nbformat_minor": 2
}
