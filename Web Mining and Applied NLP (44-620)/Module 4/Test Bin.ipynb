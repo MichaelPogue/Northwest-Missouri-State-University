{
 "cells": [
  {
   "cell_type": "code",
   "execution_count": 63,
   "metadata": {},
   "outputs": [
    {
     "name": "stdout",
     "output_type": "stream",
     "text": [
      "-0.14506172839506173\n"
     ]
    }
   ],
   "source": [
    "import requests\n",
    "import json\n",
    "import spacy \n",
    "from spacytextblob.spacytextblob import SpacyTextBlob\n",
    "from spacy.tokens import Doc\n",
    "\n",
    "AUTHOR='William Blake'\n",
    "POEM = 'The Tyger'\n",
    "\n",
    "URL = f'https://poetrydb.org/author,title/{AUTHOR};{POEM}'\n",
    "result = json.loads(requests.get(URL).text)\n",
    "poem = '\\n'.join(result[0]['lines'])\n",
    "\n",
    "\n",
    "nlp = spacy.load('en_core_web_sm')\n",
    "text = str(result)\n",
    "nlp.add_pipe(\"spacytextblob\")\n",
    "doc = nlp(text)\n",
    "print(doc._.blob.polarity)\n",
    "\n"
   ]
  },
  {
   "cell_type": "code",
   "execution_count": 64,
   "metadata": {},
   "outputs": [
    {
     "name": "stdout",
     "output_type": "stream",
     "text": [
      "Original Document: \n",
      " [{'title': 'The Tyger', 'author': 'William Blake', 'lines': ['Tyger, tyger, burning bright', 'In the forests of the night,', 'What immortal hand or eye', 'Could frame thy fearful symmetry?', '', 'In what distant deeps or skies', 'Burnt the fire of thine eyes?', 'On what wings dare he aspire?', 'What the hand dare seize the fire?', '', 'And what shoulder and what art', 'Could twist the sinews of thy heart?', 'And, when thy heart began to beat,', 'What dread hand and what dread feet?', '', 'What the hammer?  what the chain?', 'In what furnace was thy brain?', 'What the anvil? what dread grasp', 'Dare its deadly terrors clasp?', '', 'When the stars threw down their spears,', 'And watered heaven with their tears,', 'Did he smile his work to see?', 'Did he who made the lamb make thee?', '', 'Tyger, tyger, burning bright', 'In the forests of the night,', 'What immortal hand or eye', 'Dare frame thy fearful symmetry?'], 'linecount': '24'}]\n",
      "\n",
      "Count of text: 946. Count of doc: 285\n",
      "\n",
      "Raw polarity Score: -0.14506172839506173 \n",
      "Polarity Score: -0.15\n",
      "\n",
      "With a score of -0.15, we have a slightly negative yet almost neutural text reaction.\n"
     ]
    }
   ],
   "source": [
    "nlp = spacy.load('en_core_web_sm')\n",
    "text = str(result)\n",
    "nlp.add_pipe(\"spacytextblob\")\n",
    "doc = nlp(text)\n",
    "p_score = doc._.blob.polarity\n",
    "\n",
    "print('Original Document: \\n', doc)\n",
    "print(f'\\nCount of text: {len(text)}. Count of doc: {len(doc)}')\n",
    "print(f'\\nRaw polarity Score: {p_score} \\nPolarity Score: {round(p_score, 2)}')\n",
    "print('\\nWith a score of -0.15, we have a slightly negative yet almost neutural text reaction.')"
   ]
  },
  {
   "cell_type": "code",
   "execution_count": 65,
   "metadata": {},
   "outputs": [
    {
     "name": "stdout",
     "output_type": "stream",
     "text": [
      "[\n",
      "{\n",
      "'\n",
      "t\n",
      "i\n",
      "t\n",
      "l\n",
      "e\n",
      "'\n",
      ":\n"
     ]
    }
   ],
   "source": [
    "for token in text[0:10]:\n",
    "    print (token)"
   ]
  },
  {
   "cell_type": "code",
   "execution_count": 66,
   "metadata": {},
   "outputs": [
    {
     "name": "stdout",
     "output_type": "stream",
     "text": [
      "[\n",
      "{\n",
      "'\n",
      "title\n",
      "'\n",
      ":\n",
      "'\n",
      "The\n",
      "Tyger\n",
      "'\n"
     ]
    }
   ],
   "source": [
    "for token in doc[0:10]:\n",
    "    print (token)"
   ]
  },
  {
   "cell_type": "code",
   "execution_count": 67,
   "metadata": {},
   "outputs": [
    {
     "name": "stdout",
     "output_type": "stream",
     "text": [
      "[{'title':\n",
      "'The\n",
      "Tyger',\n",
      "'author':\n",
      "'William\n",
      "Blake',\n",
      "'lines':\n",
      "['Tyger,\n",
      "tyger,\n",
      "burning\n"
     ]
    }
   ],
   "source": [
    "for token in text.split()[:10]:\n",
    "    print(token)"
   ]
  },
  {
   "cell_type": "code",
   "execution_count": 68,
   "metadata": {},
   "outputs": [
    {
     "name": "stdout",
     "output_type": "stream",
     "text": [
      "[{'title': 'The Tyger', 'author': 'William Blake', 'lines':\n",
      "['Tyger, tyger, burning bright', 'In the forests of the night,', 'What immortal hand or eye', 'Could frame thy fearful symmetry?', '', 'In what distant deeps or skies', 'Burnt the fire of thine eyes?', 'On what wings dare he aspire?', 'What the hand dare seize the fire?', '', 'And what shoulder and what art', 'Could twist the sinews of thy heart?', 'And, when thy heart began to beat,', 'What dread hand and what dread feet?', '', 'What the hammer?  \n",
      "what the chain?', 'In what furnace was thy brain?', 'What the anvil?\n",
      "what dread grasp', 'Dare its deadly terrors clasp?', '', 'When the stars threw down their spears,', 'And watered heaven with their tears,', 'Did he smile his work to see?', 'Did he who made the lamb make thee?', '', 'Tyger, tyger, burning bright', 'In the forests of the night,', 'What immortal hand or eye', 'Dare frame thy fearful symmetry?'], 'linecount': '24'}]\n"
     ]
    }
   ],
   "source": [
    "for sent in doc.sents:\n",
    "    print(sent)"
   ]
  },
  {
   "cell_type": "code",
   "execution_count": 69,
   "metadata": {},
   "outputs": [
    {
     "ename": "TypeError",
     "evalue": "'generator' object is not subscriptable",
     "output_type": "error",
     "traceback": [
      "\u001b[1;31m---------------------------------------------------------------------------\u001b[0m",
      "\u001b[1;31mTypeError\u001b[0m                                 Traceback (most recent call last)",
      "Cell \u001b[1;32mIn [69], line 1\u001b[0m\n\u001b[1;32m----> 1\u001b[0m sentence1 \u001b[39m=\u001b[39m doc\u001b[39m.\u001b[39;49msents[\u001b[39m0\u001b[39;49m]\n\u001b[0;32m      2\u001b[0m \u001b[39mprint\u001b[39m(sentence1)\n",
      "\u001b[1;31mTypeError\u001b[0m: 'generator' object is not subscriptable"
     ]
    }
   ],
   "source": [
    "sentence1 = doc.sents[0]\n",
    "print(sentence1)"
   ]
  },
  {
   "cell_type": "code",
   "execution_count": null,
   "metadata": {},
   "outputs": [
    {
     "name": "stdout",
     "output_type": "stream",
     "text": [
      "['Tyger, tyger, burning bright', 'In the forests of the night,', 'What immortal hand or eye', 'Could frame thy fearful symmetry?', '', 'In what distant deeps or skies', 'Burnt the fire of thine eyes?', 'On what wings dare he aspire?', 'What the hand dare seize the fire?', '', 'And what shoulder and what art', 'Could twist the sinews of thy heart?', 'And, when thy heart began to beat,', 'What dread hand and what dread feet?', '', 'What the hammer?  \n"
     ]
    }
   ],
   "source": [
    "sentence1 = list(doc.sents)[1]\n",
    "print(sentence1)"
   ]
  },
  {
   "cell_type": "code",
   "execution_count": null,
   "metadata": {},
   "outputs": [
    {
     "name": "stdout",
     "output_type": "stream",
     "text": [
      "[\n",
      "{\n",
      "'\n",
      "title\n",
      "'\n",
      ":\n",
      "'\n",
      "The\n",
      "Tyger\n",
      "'\n"
     ]
    }
   ],
   "source": [
    "for token in doc[:10]:\n",
    "    print(token)"
   ]
  },
  {
   "cell_type": "code",
   "execution_count": null,
   "metadata": {},
   "outputs": [
    {
     "name": "stdout",
     "output_type": "stream",
     "text": [
      "tyger\n"
     ]
    }
   ],
   "source": [
    "token2 = sentence1[4]\n",
    "print(token2)"
   ]
  },
  {
   "cell_type": "code",
   "execution_count": null,
   "metadata": {},
   "outputs": [
    {
     "data": {
      "text/plain": [
       "'Tyger'"
      ]
     },
     "execution_count": 53,
     "metadata": {},
     "output_type": "execute_result"
    }
   ],
   "source": [
    "token2.text"
   ]
  },
  {
   "cell_type": "code",
   "execution_count": null,
   "metadata": {},
   "outputs": [
    {
     "data": {
      "text/plain": [
       "Tyger"
      ]
     },
     "execution_count": 54,
     "metadata": {},
     "output_type": "execute_result"
    }
   ],
   "source": [
    "token2.left_edge"
   ]
  },
  {
   "cell_type": "code",
   "execution_count": null,
   "metadata": {},
   "outputs": [
    {
     "data": {
      "text/plain": [
       "Tyger"
      ]
     },
     "execution_count": 55,
     "metadata": {},
     "output_type": "execute_result"
    }
   ],
   "source": [
    "token2.right_edge"
   ]
  },
  {
   "cell_type": "code",
   "execution_count": null,
   "metadata": {},
   "outputs": [
    {
     "data": {
      "text/plain": [
       "0"
      ]
     },
     "execution_count": 56,
     "metadata": {},
     "output_type": "execute_result"
    }
   ],
   "source": [
    "token2.ent_type"
   ]
  },
  {
   "cell_type": "code",
   "execution_count": null,
   "metadata": {},
   "outputs": [
    {
     "data": {
      "text/plain": [
       "''"
      ]
     },
     "execution_count": 57,
     "metadata": {},
     "output_type": "execute_result"
    }
   ],
   "source": [
    "token2.ent_type_"
   ]
  },
  {
   "cell_type": "code",
   "execution_count": 77,
   "metadata": {},
   "outputs": [],
   "source": [
    "text2 = \"herp derp blerp\"\n",
    "doc2 = nlp(text2)\n",
    "\n"
   ]
  },
  {
   "cell_type": "code",
   "execution_count": 80,
   "metadata": {},
   "outputs": [
    {
     "ename": "AttributeError",
     "evalue": "'spacy.tokens.token.Token' object has no attribute 'doc2'",
     "output_type": "error",
     "traceback": [
      "\u001b[1;31m---------------------------------------------------------------------------\u001b[0m",
      "\u001b[1;31mAttributeError\u001b[0m                            Traceback (most recent call last)",
      "Cell \u001b[1;32mIn [80], line 2\u001b[0m\n\u001b[0;32m      1\u001b[0m \u001b[39mfor\u001b[39;00m token \u001b[39min\u001b[39;00m doc2:\n\u001b[1;32m----> 2\u001b[0m     \u001b[39mprint\u001b[39m(token\u001b[39m.\u001b[39;49mdoc2, token\u001b[39m.\u001b[39mpos_,token\u001b[39m.\u001b[39mdep_)\n",
      "\u001b[1;31mAttributeError\u001b[0m: 'spacy.tokens.token.Token' object has no attribute 'doc2'"
     ]
    }
   ],
   "source": [
    "for token in doc2:\n",
    "    print(token.doc2, token.pos_,token.dep_)"
   ]
  }
 ],
 "metadata": {
  "kernelspec": {
   "display_name": "Python 3.10.8 64-bit (microsoft store)",
   "language": "python",
   "name": "python3"
  },
  "language_info": {
   "codemirror_mode": {
    "name": "ipython",
    "version": 3
   },
   "file_extension": ".py",
   "mimetype": "text/x-python",
   "name": "python",
   "nbconvert_exporter": "python",
   "pygments_lexer": "ipython3",
   "version": "3.10.8"
  },
  "orig_nbformat": 4,
  "vscode": {
   "interpreter": {
    "hash": "0ae41e45250eb696c2277dfbd939b9be222f957334433f60364f37f2e4b8f76d"
   }
  }
 },
 "nbformat": 4,
 "nbformat_minor": 2
}
