{
 "cells": [
  {
   "cell_type": "code",
   "execution_count": 12,
   "metadata": {},
   "outputs": [],
   "source": [
    "import requests\n",
    "import json\n",
    "import spacy \n",
    "from spacytextblob.spacytextblob import SpacyTextBlob\n",
    "\n",
    "\n",
    "name = 'Blake'\n",
    "poem = 'Tyger'\n",
    "\n",
    "def function():\n",
    "    URL = f'https://poetrydb.org/author,title/{request_name};{request_poem}'\n",
    "    result = json.loads(requests.get(URL).text)\n",
    "    nlp = spacy.load('en_core_web_sm')\n",
    "    text = str(result)\n",
    "    nlp.add_pipe(\"spacytextblob\")\n",
    "    doc = nlp(text)\n",
    "    p_score = doc._.blob.polarity\n",
    "    \n",
    "    for i in json_object:\n",
    "        body = i['lines']        \n",
    "        print(f\"{'Poem Title:':<14} {i['title']}\")\n",
    "        print(f\"{'Poem Author:':<15}{i['author']}\")\n",
    "        #print(body)    \n",
    "    return doc\n",
    "\n",
    "function()\n"
   ]
  },
  {
   "cell_type": "code",
   "execution_count": null,
   "metadata": {},
   "outputs": [],
   "source": [
    "def list_item_information():\n"
   ]
  },
  {
   "cell_type": "code",
   "execution_count": null,
   "metadata": {},
   "outputs": [],
   "source": [
    "\n",
    "with open(\"choice_1.json\", \"w\") as outfile:\n",
    "    outfile.write(text)"
   ]
  }
 ],
 "metadata": {
  "kernelspec": {
   "display_name": "Python 3.11.0 64-bit",
   "language": "python",
   "name": "python3"
  },
  "language_info": {
   "codemirror_mode": {
    "name": "ipython",
    "version": 3
   },
   "file_extension": ".py",
   "mimetype": "text/x-python",
   "name": "python",
   "nbconvert_exporter": "python",
   "pygments_lexer": "ipython3",
   "version": "3.11.0"
  },
  "orig_nbformat": 4,
  "vscode": {
   "interpreter": {
    "hash": "af31991c939d0d47fd88192dde140282c60bcd0650d9319c70f9d5b7f17cd661"
   }
  }
 },
 "nbformat": 4,
 "nbformat_minor": 2
}
