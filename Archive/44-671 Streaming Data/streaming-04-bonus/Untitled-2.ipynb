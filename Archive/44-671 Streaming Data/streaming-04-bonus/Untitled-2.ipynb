{
 "cells": [
  {
   "cell_type": "code",
   "execution_count": 5,
   "metadata": {},
   "outputs": [
    {
     "name": "stdout",
     "output_type": "stream",
     "text": [
      " [*] Ready for work. To exit press CTRL+C\n",
      " [x] Received Freddi Fish 3: The Case of the Stolen Conch Shell at 21:33:28\n",
      " [x] Done.\n",
      " [x] Received Putt-Putt Travels Through Time at 21:33:38\n",
      " [x] Done.\n"
     ]
    }
   ],
   "source": [
    "\"\"\"\n",
    "    Original Code:    Dr. Denise Case\n",
    "    Author:           Michael Pogue\n",
    "    Date:             Feburary 07, 2023\n",
    "\"\"\"\n",
    "\n",
    "import pika\n",
    "import sys\n",
    "import time\n",
    "import csv\n",
    "from time import strftime\n",
    "\n",
    "\"\"\"  \n",
    "------------------------------------------------------------------------------------------ \"\"\"\n",
    "def callback1(ch, method, properties, body):\n",
    "    file = open(f'data-consume_1.csv', 'a')\n",
    "    writer = csv.writer(file)\n",
    "    writer.writerow(body.decode())\n",
    "    print(f\" [x] Received {body.decode()} at {strftime('%H:%M:%S')}\")\n",
    "\n",
    "    time.sleep(body.count(b\".\"))\n",
    "    print(\" [x] Done.\")\n",
    "    ch.basic_ack(delivery_tag=method.delivery_tag)\n",
    "\n",
    "\n",
    "def callback2(ch, method, properties, body):\n",
    "    file = open(f'data-consume_2.csv', 'a')\n",
    "    writer = csv.writer(file)\n",
    "    writer.writerow(body.decode())\n",
    "    print(f\" [x] Received {body.decode()} at {strftime('%H:%M:%S')}\")\n",
    "\n",
    "    time.sleep(body.count(b\".\"))\n",
    "    print(\" [x] Done.\")\n",
    "    ch.basic_ack(delivery_tag=method.delivery_tag)\n",
    "\n",
    "\n",
    "\n",
    "\n",
    "\n",
    "\"\"\"  \n",
    "------------------------------------------------------------------------------------------ \"\"\"\n",
    "def main(hn: str = \"localhost\", qn: str = \"task_queue\"):\n",
    "    try:\n",
    "        connection = pika.BlockingConnection(pika.ConnectionParameters(host=hn))\n",
    "    except Exception as e:\n",
    "        print()\n",
    "        print(\"ERROR: connection to RabbitMQ server failed.\")\n",
    "        print(f\"Verify the server is running on host={hn}.\")\n",
    "        print(f\"The error says: {e}\")\n",
    "        print()\n",
    "        sys.exit(1)\n",
    "\n",
    "    try:\n",
    "        channel = connection.channel()\n",
    "        channel.queue_declare(queue=qn, durable=True)\n",
    "        channel.basic_qos(prefetch_count=1)\n",
    "        if qn == 'first_choice':\n",
    "            channel.basic_consume( queue=qn, on_message_callback=callback1)\n",
    "        else: \n",
    "            channel.basic_consume( queue=qn, on_message_callback=callback2)\n",
    "        print(\" [*] Ready for work. To exit press CTRL+C\")\n",
    "        channel.start_consuming()\n",
    "\n",
    "    except Exception as e:\n",
    "        print()\n",
    "        print(\"ERROR: something went wrong.\")\n",
    "        print(f\"The error says: {e}\")\n",
    "        sys.exit(1)\n",
    "    except KeyboardInterrupt:\n",
    "        print()\n",
    "        print(\" User interrupted continuous listening process.\")\n",
    "        sys.exit(0)\n",
    "    finally:\n",
    "        print(\"\\nClosing connection. Goodbye.\\n\")\n",
    "        connection.close()\n",
    "\n",
    "\"\"\"  \n",
    "------------------------------------------------------------------------------------------ \"\"\"\n",
    "if __name__ == \"__main__\":\n",
    "    host = 'localhost'\n",
    "    task_queue_1 = 'first_choice'\n",
    "    task_queue_2 = 'second_choice'\n",
    "    main(host, task_queue_1)\n",
    "    main(host, task_queue_2)\n"
   ]
  }
 ],
 "metadata": {
  "kernelspec": {
   "display_name": "Python 3",
   "language": "python",
   "name": "python3"
  },
  "language_info": {
   "codemirror_mode": {
    "name": "ipython",
    "version": 3
   },
   "file_extension": ".py",
   "mimetype": "text/x-python",
   "name": "python",
   "nbconvert_exporter": "python",
   "pygments_lexer": "ipython3",
   "version": "3.10.9"
  },
  "orig_nbformat": 4,
  "vscode": {
   "interpreter": {
    "hash": "0ae41e45250eb696c2277dfbd939b9be222f957334433f60364f37f2e4b8f76d"
   }
  }
 },
 "nbformat": 4,
 "nbformat_minor": 2
}
