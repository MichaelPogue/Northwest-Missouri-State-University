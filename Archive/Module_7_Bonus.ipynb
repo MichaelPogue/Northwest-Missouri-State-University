{
 "cells": [
  {
   "cell_type": "markdown",
   "metadata": {},
   "source": [
    "Michael Pogue Module 7 Bonus Homework"
   ]
  },
  {
   "cell_type": "code",
   "execution_count": 59,
   "metadata": {},
   "outputs": [],
   "source": [
    "#Importing Python modules\n",
    "import csv\n",
    "import pandas as pd\n",
    "from scipy  import stats\n",
    "import matplotlib.pyplot as plt\n",
    "\n",
    "#Importing/createing data. I decided that it would be more fun to write my data, rather than have one pre-populated, \n",
    "#this is what I came up with:\n",
    "with open('pogue_tamerica_account.csv', 'w', newline='') as file:\n",
    "    writer = csv.writer(file)\n",
    "    writer.writerow([\"Entry\", \"Date\", \"Value\"])\n",
    "    writer.writerow([1,  '9/30/2017'  , 1063.76])\n",
    "    writer.writerow([2,  '12/31/2017' , 1642.53])\n",
    "    writer.writerow([3,  '3/31/2018'  , 2362.34])\n",
    "    writer.writerow([4,  '6/30/2018'  , 3054.14])\n",
    "    writer.writerow([5,  '9/30/2018'  , 3830.56])\n",
    "    writer.writerow([6,  '12/31/2018' , 4038.08])\n",
    "    writer.writerow([7,  '3/31/2019'  , 5224.1])\n",
    "    writer.writerow([8,  '6/30/2019'  , 6413.91])\n",
    "    writer.writerow([9,  '9/30/2019'  , 8435.38])\n",
    "    writer.writerow([10, '12/31/2019' , 11464.69])\n",
    "    writer.writerow([11, '3/31/2020'  , 11070.73])\n",
    "    writer.writerow([12, '6/30/2020'  , 15540.59])\n",
    "    writer.writerow([13, '9/30/2020'  , 18650.67])\n",
    "    writer.writerow([14, '12/31/2020' , 23594.62])\n",
    "    writer.writerow([15, '3/31/2021'  , 26945.54])\n",
    "    writer.writerow([16, '6/30/2021'  , 26910.83])\n",
    "    writer.writerow([17, '9/30/2021'  , 26606.01])\n",
    "    writer.writerow([18, '12/31/2021' , 28188.29])\n",
    "    writer.writerow([19, '3/31/2022'  , 26507.08])\n",
    "    writer.writerow([20, '6/30/2022'  , 22747.68])\n",
    "\n",
    "#Naming for file\n",
    "mptamri = pd.read_csv('pogue_tamerica_account.csv')"
   ]
  },
  {
   "cell_type": "markdown",
   "metadata": {},
   "source": [
    "All data is real and not fabricated. The date formatting was making life rather difficult for me, so I settled with making entries instead. "
   ]
  },
  {
   "cell_type": "code",
   "execution_count": 60,
   "metadata": {},
   "outputs": [
    {
     "data": {
      "text/html": [
       "<div>\n",
       "<style scoped>\n",
       "    .dataframe tbody tr th:only-of-type {\n",
       "        vertical-align: middle;\n",
       "    }\n",
       "\n",
       "    .dataframe tbody tr th {\n",
       "        vertical-align: top;\n",
       "    }\n",
       "\n",
       "    .dataframe thead th {\n",
       "        text-align: right;\n",
       "    }\n",
       "</style>\n",
       "<table border=\"1\" class=\"dataframe\">\n",
       "  <thead>\n",
       "    <tr style=\"text-align: right;\">\n",
       "      <th></th>\n",
       "      <th>Entry</th>\n",
       "      <th>Date</th>\n",
       "      <th>Value</th>\n",
       "    </tr>\n",
       "  </thead>\n",
       "  <tbody>\n",
       "    <tr>\n",
       "      <th>0</th>\n",
       "      <td>1</td>\n",
       "      <td>9/30/2017</td>\n",
       "      <td>1063.76</td>\n",
       "    </tr>\n",
       "    <tr>\n",
       "      <th>1</th>\n",
       "      <td>2</td>\n",
       "      <td>12/31/2017</td>\n",
       "      <td>1642.53</td>\n",
       "    </tr>\n",
       "    <tr>\n",
       "      <th>2</th>\n",
       "      <td>3</td>\n",
       "      <td>3/31/2018</td>\n",
       "      <td>2362.34</td>\n",
       "    </tr>\n",
       "    <tr>\n",
       "      <th>3</th>\n",
       "      <td>4</td>\n",
       "      <td>6/30/2018</td>\n",
       "      <td>3054.14</td>\n",
       "    </tr>\n",
       "    <tr>\n",
       "      <th>4</th>\n",
       "      <td>5</td>\n",
       "      <td>9/30/2018</td>\n",
       "      <td>3830.56</td>\n",
       "    </tr>\n",
       "  </tbody>\n",
       "</table>\n",
       "</div>"
      ],
      "text/plain": [
       "   Entry        Date    Value\n",
       "0      1   9/30/2017  1063.76\n",
       "1      2  12/31/2017  1642.53\n",
       "2      3   3/31/2018  2362.34\n",
       "3      4   6/30/2018  3054.14\n",
       "4      5   9/30/2018  3830.56"
      ]
     },
     "execution_count": 60,
     "metadata": {},
     "output_type": "execute_result"
    }
   ],
   "source": [
    "mptamri.head()"
   ]
  },
  {
   "cell_type": "code",
   "execution_count": 79,
   "metadata": {},
   "outputs": [
    {
     "data": {
      "image/png": "[encoded data removed]",
      "text/plain": [
       "<Figure size 432x288 with 1 Axes>"
      ]
     },
     "metadata": {
      "needs_background": "light"
     },
     "output_type": "display_data"
    }
   ],
   "source": [
    "#I tried something  \n",
    "plt.scatter(mptamri.Entry, mptamri.Value)\n",
    "plt.title('Value per Entry')\n",
    "plt.xlabel('Entry')\n",
    "plt.ylabel('Value')\n",
    "plt.show()"
   ]
  },
  {
   "cell_type": "markdown",
   "metadata": {},
   "source": [
    "COVID has been aweful to my finances. ='("
   ]
  },
  {
   "cell_type": "code",
   "execution_count": 80,
   "metadata": {},
   "outputs": [
    {
     "data": {
      "text/plain": [
       "count       20.0\n",
       "mean     13714.6\n",
       "std      10260.7\n",
       "min       1063.8\n",
       "25%       3986.2\n",
       "50%      11267.7\n",
       "75%      24322.7\n",
       "max      28188.3\n",
       "Name: Value, dtype: float64"
      ]
     },
     "execution_count": 80,
     "metadata": {},
     "output_type": "execute_result"
    }
   ],
   "source": [
    "round(mptamri.Value.describe(),1)"
   ]
  },
  {
   "cell_type": "code",
   "execution_count": 81,
   "metadata": {},
   "outputs": [
    {
     "name": "stdout",
     "output_type": "stream",
     "text": [
      "Slope:  1653.39 \n",
      "Intercept:  -3645.99\n"
     ]
    }
   ],
   "source": [
    "linear_regression = stats.linregress(x=mptamri.Entry, y=mptamri.Value)\n",
    "\n",
    "print(\n",
    "    \"Slope: \"\n",
    "    , round(linear_regression.slope,2)\n",
    "    , \"\\nIntercept: \"\n",
    "    , round(linear_regression.intercept,2)\n",
    ")"
   ]
  },
  {
   "cell_type": "markdown",
   "metadata": {},
   "source": [
    "Entry 25's projection:"
   ]
  },
  {
   "cell_type": "code",
   "execution_count": 82,
   "metadata": {},
   "outputs": [
    {
     "data": {
      "text/plain": [
       "37689"
      ]
     },
     "execution_count": 82,
     "metadata": {},
     "output_type": "execute_result"
    }
   ],
   "source": [
    "round(linear_regression.slope * 25 + linear_regression.intercept,)"
   ]
  },
  {
   "cell_type": "code",
   "execution_count": 83,
   "metadata": {},
   "outputs": [
    {
     "data": {
      "text/plain": [
       "161693"
      ]
     },
     "execution_count": 83,
     "metadata": {},
     "output_type": "execute_result"
    }
   ],
   "source": [
    "round(linear_regression.slope * 100 + linear_regression.intercept,)"
   ]
  },
  {
   "cell_type": "markdown",
   "metadata": {},
   "source": [
    "Considering my data is grouped by quaters, 4 groups per year, at entry 100 it's been 25 years... An outcome of 160,000$ is a rather terrible investment. I hope this doesn't predict my future!"
   ]
  },
  {
   "cell_type": "markdown",
   "metadata": {},
   "source": []
  }
 ],
 "metadata": {
  "kernelspec": {
   "display_name": "Python 3.10.5 64-bit",
   "language": "python",
   "name": "python3"
  },
  "language_info": {
   "codemirror_mode": {
    "name": "ipython",
    "version": 3
   },
   "file_extension": ".py",
   "mimetype": "text/x-python",
   "name": "python",
   "nbconvert_exporter": "python",
   "pygments_lexer": "ipython3",
   "version": "3.10.5"
  },
  "orig_nbformat": 4,
  "vscode": {
   "interpreter": {
    "hash": "f87fde2320060d2900fddac7da54e7374722de106bfdb09feff620760be7bc48"
   }
  }
 },
 "nbformat": 4,
 "nbformat_minor": 2
}
