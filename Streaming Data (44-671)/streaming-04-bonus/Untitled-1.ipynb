{
 "cells": [
  {
   "cell_type": "code",
   "execution_count": 5,
   "metadata": {},
   "outputs": [
    {
     "name": "stdout",
     "output_type": "stream",
     "text": [
      " [x] Sent Freddi Fish 3: The Case of the Stolen Conch Shell\n",
      " [x] Sent Putt-Putt Travels Through Time\n",
      " [x] Sent: NS\n",
      " [x] Sent: NS\n"
     ]
    }
   ],
   "source": [
    "\"\"\"\n",
    "    Original Code:    Dr. Denise Case\n",
    "    Author:           Michael Pogue\n",
    "    Date:             Feburary 07, 2023\n",
    "\"\"\"\n",
    "\n",
    "import pika\n",
    "import sys\n",
    "import webbrowser\n",
    "import csv \n",
    "import time \n",
    "import pandas as pd\n",
    "from time import strftime \n",
    "\n",
    "\"\"\"  \n",
    "------------------------------------------------------------------------------------------ \"\"\"\n",
    "def user_pick_columns():\n",
    "    # column_1 = input('Choose your first column:')\n",
    "    # column_2 = input('Choose your second column:')\n",
    "    column_1 = 2\n",
    "    column_2 = 3\n",
    "    return column_1, column_2\n",
    "\n",
    "\"\"\"  \n",
    "------------------------------------------------------------------------------------------ \"\"\"\n",
    "def send_message_1(host: str, queue_name: str, file: csv, choice: int):\n",
    "    with open(file, 'r') as csvfile:\n",
    "            reader = csv.reader(csvfile)\n",
    "            next(reader, None)\n",
    "            for val in reader:\n",
    "                try:\n",
    "                    conn = pika.BlockingConnection(pika.ConnectionParameters(host))\n",
    "                    ch = conn.channel()\n",
    "                    ch.queue_declare(queue=queue_name, durable=True)\n",
    "                    ch.basic_publish(exchange=\"\", routing_key=queue_name, body=val[choice])\n",
    "                    print(f\" [x] Sent {val[choice]}\")\n",
    "                except pika.exceptions.AMQPConnectionError as e:\n",
    "                    print(f\"Error: Connection to RabbitMQ server failed: {e}\")\n",
    "                    sys.exit(1)\n",
    "                finally:\n",
    "                    conn.close()\n",
    "\n",
    "def send_message_2(host: str, queue_name: str, file: csv, choice: int):\n",
    "    with open(file, 'r') as csvfile:\n",
    "            reader = csv.reader(csvfile)\n",
    "            next(reader, None)\n",
    "            for val in reader:\n",
    "                try:\n",
    "                    conn = pika.BlockingConnection(pika.ConnectionParameters(host))\n",
    "                    ch = conn.channel()\n",
    "                    ch.queue_declare(queue=queue_name, durable=True)\n",
    "                    ch.basic_publish(exchange=\"\", routing_key=queue_name, body=val[choice])\n",
    "                    print(f\" [x] Sent: {val[choice]}\")\n",
    "                except pika.exceptions.AMQPConnectionError as e:\n",
    "                    print(f\"Error: Connection to RabbitMQ server failed: {e}\")\n",
    "                    sys.exit(1)\n",
    "                finally:\n",
    "                    conn.close()\n",
    "\n",
    "\"\"\"  \n",
    "------------------------------------------------------------------------------------------ \"\"\"\n",
    "if __name__ == \"__main__\":\n",
    "    host = 'localhost'\n",
    "    choice_1, choice_2 = user_pick_columns()\n",
    "    task_queue_1 = 'first_choice'\n",
    "    task_queue_2 = 'second_choice'\n",
    "    file = 'data-video-games-2022.csv'\n",
    "    send_message_1(host, task_queue_1, file, choice_1)\n",
    "    send_message_2(host, task_queue_2, file, choice_2)\n"
   ]
  }
 ],
 "metadata": {
  "kernelspec": {
   "display_name": "Python 3",
   "language": "python",
   "name": "python3"
  },
  "language_info": {
   "codemirror_mode": {
    "name": "ipython",
    "version": 3
   },
   "file_extension": ".py",
   "mimetype": "text/x-python",
   "name": "python",
   "nbconvert_exporter": "python",
   "pygments_lexer": "ipython3",
   "version": "3.10.9"
  },
  "orig_nbformat": 4,
  "vscode": {
   "interpreter": {
    "hash": "0ae41e45250eb696c2277dfbd939b9be222f957334433f60364f37f2e4b8f76d"
   }
  }
 },
 "nbformat": 4,
 "nbformat_minor": 2
}
