{
 "cells": [
  {
   "cell_type": "markdown",
   "metadata": {},
   "source": [
    "# Web Mining and Applied NLP (44-620)\n",
    "\n",
    "## Requests, JSON, and NLP\n",
    "\n",
    "### Student Name: Michael Pogue\n",
    "### Github Link: https://github.com/MichaelPogue/Northwest-Missouri-State-University/tree/main/Web%20Mining%20and%20Applied%20NLP%20(44-620)\n",
    "\n",
    "Perform the tasks described in the Markdown cells below.  When you have completed the assignment make sure your code cells have all been run (and have output beneath them) and ensure you have committed and pushed ALL of your changes to your assignment repository.\n",
    "\n",
    "Make sure you have [installed spaCy and its pipeline](https://spacy.io/usage#quickstart) and [spaCyTextBlob](https://spacy.io/universe/project/spacy-textblob)\n",
    "\n",
    "Every question that requires you to write code will have a code cell underneath it; you may either write your entire solution in that cell or write it in a python file (`.py`), then import and run the appropriate code to answer the question.\n",
    "\n",
    "This assignment requires that you write additional files (either JSON or pickle files); make sure to submit those files in your repository as well."
   ]
  },
  {
   "cell_type": "markdown",
   "metadata": {},
   "source": [
    "### Question 1 - - - - - - - - - - - - - - - - - - - - - - - - - - - - - - - - - - - - - - - - - - - - - - - -\n",
    "\n",
    "1. The following code accesses the [lyrics.ovh](https://lyricsovh.docs.apiary.io/#reference/0/lyrics-of-a-song/search) public api, searches for the lyrics of a song, and stores it in a dictionary object.  Write the resulting json to a file (either a JSON file or a pickle file; you choose). You will read in the contents of this file for future questions so we do not need to frequently access the API."
   ]
  },
  {
   "cell_type": "code",
   "execution_count": 26,
   "metadata": {},
   "outputs": [
    {
     "name": "stdout",
     "output_type": "stream",
     "text": [
      "Poem Title:   A POISON TREE\n",
      "Poem Author:   William Blake\n",
      "\n",
      " I was angry with my friend:\n",
      "I told my wrath, my wrath did end.\n",
      "I was angry with my foe:\n",
      "I told it not, my wrath did grow.\n",
      "\n",
      "And I watered it in fears\n",
      "Night and morning with my tears,\n",
      "And I sunned it with smiles\n",
      "And with soft deceitful wiles.\n",
      "\n",
      "And it grew both day and night,\n",
      "Till it bore an apple bright,\n",
      "And my foe beheld it shine,\n",
      "and he knew that it was mine,--\n",
      "\n",
      "And into my garden stole\n",
      "When the night had veiled the pole;\n",
      "In the morning, glad, I see\n",
      "My foe outstretched beneath the tree.\n"
     ]
    }
   ],
   "source": [
    "# Import modules\n",
    "import requests\n",
    "import json\n",
    "import spacy \n",
    "from spacytextblob.spacytextblob import SpacyTextBlob\n",
    "\n",
    "# Poem selection\n",
    "author ='William Blake'\n",
    "poem_title = 'A POISON TREE'\n",
    "\n",
    "# Pull request\n",
    "URL = f'https://poetrydb.org/author,title/{author};{poem_title}'\n",
    "json_object = json.loads(requests.get(URL).text)\n",
    "poem = '\\n'.join(json_object[0]['lines'])\n",
    "\n",
    "# I thought I was done and then I checked the criteria? There seems to be a rather large difference in the \n",
    "# grading criteria and the questions being asked, so I wrote to a file to cover me.\n",
    "\n",
    "# Write the data\n",
    "with open(f\"{poem_title}.json\", \"w\") as outfile:\n",
    "    json.dump(json_object, outfile)\n",
    "\n",
    "print(f\"{'Poem Title:':<14}{poem_title}\")\n",
    "print(f\"{'Poem Author:':<15}{author}\")\n",
    "print('\\n',poem)"
   ]
  },
  {
   "cell_type": "markdown",
   "metadata": {},
   "source": [
    "### Question 2 - - - - - - - - - - - - - - - - - - - - - - - - - - - - - - - - - - - - - - - - - - - - - - - -\n",
    "\n",
    "2. Read in the contents of your file.  Print the lyrics of the song (not the entire dictionary!) and use spaCyTextBlob to perform sentiment analysis on the lyrics.  Print the polarity score of the sentiment analysis.  Given that the range of the polarity score is `[-1.0,1.0]` which corresponds to how positive or negative the text in question is, do you think the lyrics have a more positive or negative connotaion?  Answer this question in a comment in your code cell."
   ]
  },
  {
   "cell_type": "code",
   "execution_count": 27,
   "metadata": {},
   "outputs": [
    {
     "name": "stdout",
     "output_type": "stream",
     "text": [
      "Original Document:\n",
      " I was angry with my friend:\n",
      "I told my wrath, my wrath did end.\n",
      "I was angry with my foe:\n",
      "I told it not, my wrath did grow.\n",
      "\n",
      "And I watered it in fears\n",
      "Night and morning with my tears,\n",
      "And I sunned it with smiles\n",
      "And with soft deceitful wiles.\n",
      "\n",
      "And it grew both day and night,\n",
      "Till it bore an apple bright,\n",
      "And my foe beheld it shine,\n",
      "and he knew that it was mine,--\n",
      "\n",
      "And into my garden stole\n",
      "When the night had veiled the pole;\n",
      "In the morning, glad, I see\n",
      "My foe outstretched beneath the tree.\n",
      "\n",
      "JSON Document:\n",
      " [{'title': 'A POISON TREE', 'author': 'William Blake', 'lines': ['I was angry with my friend:', 'I told my wrath, my wrath did end.', 'I was angry with my foe:', 'I told it not, my wrath did grow.', '', 'And I watered it in fears', 'Night and morning with my tears,', 'And I sunned it with smiles', 'And with soft deceitful wiles.', '', 'And it grew both day and night,', 'Till it bore an apple bright,', 'And my foe beheld it shine,', 'and he knew that it was mine,--', '', 'And into my garden stole', 'When the night had veiled the pole;', 'In the morning, glad, I see', 'My foe outstretched beneath the tree.'], 'linecount': '16'}]\n",
      "\n",
      "Count of text: 634. Count of doc: 206\n",
      "\n",
      "Raw polarity Score: -0.07499999999999997 \n",
      "Polarity Score: -0.07\n",
      "\n",
      "With a score of -0.07, we have a slightly negative yet almost neutral tone. This means this text has more negative words than positive. Considering the poem has a theme about anger, this is kinda shocking to me. I would have expected closer to a -1.0.\n"
     ]
    }
   ],
   "source": [
    "with open(f'{poem_title}.json','r') as file:\n",
    "    json_data = json.load(file)\n",
    "\n",
    "# Load/transform spaCy data\n",
    "nlp = spacy.load('en_core_web_sm')\n",
    "text = str(json_data)\n",
    "nlp.add_pipe(\"spacytextblob\")\n",
    "doc = nlp(text)\n",
    "p_score = doc._.blob.polarity\n",
    "\n",
    "# Print data\n",
    "print('Original Document:\\n', poem)\n",
    "print('\\nJSON Document:\\n', json_data)\n",
    "print(f'\\nCount of text: {len(text)}. Count of doc: {len(doc)}')\n",
    "print(f'\\nRaw polarity Score: {p_score} \\nPolarity Score: {round(p_score, 2)}')\n",
    "print(f'\\nWith a score of {round(p_score, 2)}, we have a slightly negative yet almost neutral tone. This means this text has more negative words than positive. Considering the poem has a theme about anger, this is kinda shocking to me. I would have expected closer to a -1.0.')"
   ]
  },
  {
   "cell_type": "markdown",
   "metadata": {},
   "source": [
    "### Question 3 - - - - - - - - - - - - - - - - - - - - - - - - - - - - - - - - - - - - - - - - - - - - - - - -\n",
    "\n",
    "3. Write a function that takes an artist, song, and filename, accesses the lyrics.ovh api to get the song lyrics, and writes the results to the specified filename.  Test this function by getting the lyrics to any four songs of your choice and storing them in different files."
   ]
  },
  {
   "cell_type": "code",
   "execution_count": 28,
   "metadata": {},
   "outputs": [],
   "source": [
    "# Create function\n",
    "def function(request_name, request_poem):\n",
    "    # Pull function's data\n",
    "    URL = f'https://poetrydb.org/author,title/{request_name};{request_poem}'\n",
    "    json_object = json.loads(requests.get(URL).text)\n",
    "    \n",
    "    # Sentiment analysis\n",
    "    nlp = spacy.load('en_core_web_sm')\n",
    "    nlp.add_pipe(\"spacytextblob\")\n",
    "    \n",
    "    # Print information\n",
    "    for i in json_object:\n",
    "        body = i['lines']  \n",
    "        title = i['title']      \n",
    "    \n",
    "    # Write the data\n",
    "    with open(f\"{title}.json\", \"w\") as outfile:\n",
    "        json.dump(json_object, outfile)\n",
    "\n",
    "# Define variables\n",
    "request_author = input('What is the full name of the author?') \n",
    "request_poem = input('What is the name of the poem?')  \n",
    "\n",
    "# Execute function\n",
    "function(request_author, request_poem)\n",
    "\n",
    "# Options \n",
    "# 1                2                      3                      4\n",
    "# 'William Blake'  'Adam Lindsay Gordon'  'Robinson'             'Edward Lear'\n",
    "# 'A POISON TREE'  'A Song of Autumn'     'Stanzas to the Rose'  'There Was an Old Man in a Tree'"
   ]
  },
  {
   "cell_type": "markdown",
   "metadata": {},
   "source": [
    "### Question 4 - - - - - - - - - - - - - - - - - - - - - - - - - - - - - - - - - - - - - - - - - - - - - - - -\n",
    "\n",
    "4. Write a function that takes the name of a file that contains song lyrics, loads the file, performs sentiment analysis, and returns the polarity score.  Use this function to print the polarity scores (with the name of the song) of the three files you created in question 3.  Does the reported polarity match your understanding of the song's lyrics? Why or why not do you think that might be?  Answer the questions in either a comment in the code cell or a markdown cell under the code cell."
   ]
  },
  {
   "cell_type": "code",
   "execution_count": 29,
   "metadata": {},
   "outputs": [
    {
     "name": "stdout",
     "output_type": "stream",
     "text": [
      "Poem 1\n",
      "Poem Title:         A POISON TREE\n",
      "Poem Author:        William Blake\n",
      "Polarity Score:     -0.07\n",
      "\n",
      "Poem 2\n",
      "Poem Title:         A Song of Autumn\n",
      "Poem Author:        Adam Lindsay Gordon\n",
      "Polarity Score:     0.03\n",
      "\n",
      "Poem 3\n",
      "Poem Title:         Stanzas to the Rose\n",
      "Poem Author:        Robinson\n",
      "Polarity Score:     0.33\n",
      "\n",
      "Poem 4\n",
      "Poem Title:         There Was an Old Man in a Tree\n",
      "Poem Author:        Edward Lear\n",
      "Polarity Score:     -0.24\n"
     ]
    }
   ],
   "source": [
    "# File selection\n",
    "file1 = 'A POISON TREE'\n",
    "file2 = 'A Song of Autumn'\n",
    "file3 = 'Stanzas to the Rose'\n",
    "file4 = 'There Was an Old Man in a Tree'\n",
    "bonus_round = request_poem # Load previous selection's data\n",
    "\n",
    "# Create function to perform sentiment analysis on previous written data\n",
    "def func_read_song_from_api_in_json(file_choice):\n",
    "    # Load spaCy\n",
    "    nlp = spacy.load('en_core_web_sm')\n",
    "    nlp.add_pipe(\"spacytextblob\") \n",
    "    \n",
    "    # Open data file\n",
    "    with open(f'{file_choice}.json','r') as file:\n",
    "        json_data = json.load(file)\n",
    "    \n",
    "    # Sentiment analysis\n",
    "    text = str(json_data)\n",
    "    doc = nlp(text)    \n",
    "    p_score = doc._.blob.polarity\n",
    "    \n",
    "    # Creat function to read and process opened file\n",
    "    for i in json_data:\n",
    "        body = i['lines']  \n",
    "        print(f\"{'Poem Title:':<19} {i['title']}\")\n",
    "        print(f\"{'Poem Author:':<20}{i['author']}\")\n",
    "        print(f\"{'Polarity Score:':<20}{round(p_score,2)}\")\n",
    "        # print('\\n',body)\n",
    "\n",
    "print('Poem 1')\n",
    "func_read_song_from_api_in_json(file1)\n",
    "print('\\nPoem 2')\n",
    "func_read_song_from_api_in_json(file2)\n",
    "print('\\nPoem 3')\n",
    "func_read_song_from_api_in_json(file3)\n",
    "print('\\nPoem 4')\n",
    "func_read_song_from_api_in_json(file4)\n",
    "\n",
    "# I dont' understand the premise of the polarity score. From my research it is a useful tool for depicting the\n",
    "# tone of text, be it more negative than positive. A POSION TREE by Blake has many negative words such as \"angry, \n",
    "# wrath, tears, fears, decietful, foe, stole\" and yet it has a very minor negative score. Then we have There Was \n",
    "# an Old Man in a Tree by Lear and it's vastly more negative. It's confusing to me."
   ]
  }
 ],
 "metadata": {
  "kernelspec": {
   "display_name": "Python 3 (ipykernel)",
   "language": "python",
   "name": "python3"
  },
  "language_info": {
   "codemirror_mode": {
    "name": "ipython",
    "version": 3
   },
   "file_extension": ".py",
   "mimetype": "text/x-python",
   "name": "python",
   "nbconvert_exporter": "python",
   "pygments_lexer": "ipython3",
   "version": "3.10.8"
  },
  "vscode": {
   "interpreter": {
    "hash": "0ae41e45250eb696c2277dfbd939b9be222f957334433f60364f37f2e4b8f76d"
   }
  }
 },
 "nbformat": 4,
 "nbformat_minor": 4
}
