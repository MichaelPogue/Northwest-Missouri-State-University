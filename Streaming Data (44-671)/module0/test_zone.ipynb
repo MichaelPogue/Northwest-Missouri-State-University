{
 "cells": [
  {
   "attachments": {},
   "cell_type": "markdown",
   "metadata": {},
   "source": [
    "Module 0 Homework 1\n",
    "By Michael Pogue"
   ]
  },
  {
   "cell_type": "code",
   "execution_count": 6,
   "metadata": {},
   "outputs": [],
   "source": [
    "import os\n",
    "import csv\n",
    "import pandas as pd\n",
    "\n",
    "BASE_FILE = 'batchfile_0_farenheit.csv'\n",
    "input_file_name = 'batchfile_2_kelvin.csv'\n",
    "output_file_name = 'batchfile_3_farenheit.csv'\n",
    "\n",
    "input_file_name = \"batchfile_0_farenheit.csv\"\n",
    "output_file_name = \"batchfile_1_celcius.csv\"\n",
    "input_file = open(input_file_name, \"r\")\n",
    "output_file = open(output_file_name, \"w\", newline='')\n",
    "\n",
    "reader = csv.reader(input_file, delimiter=\",\")\n",
    "writer = csv.writer(output_file, delimiter=\",\")\n",
    "\n",
    "header = next(reader)\n",
    "\n",
    "header_list = [\"Year\",\"Month\",\"Day\",\"Time\",\"TempC\"]\n",
    "writer.writerow(header_list)\n",
    "\n",
    "for row in reader:\n",
    "    Year, Month, Day, Time, TempA = row\n",
    "    TempB = round((float(TempA) - 32.0) * 5.0 / 9.0,2)\n",
    "    writer.writerow([Year, Month, Day, Time, TempB])\n",
    "\n",
    "output_file.close()\n",
    "input_file.close()\n",
    "\n",
    "input_file_name = \"batchfile_1_celcius.csv\"\n",
    "output_file_name = \"batchfile_2_kelvin.csv\"\n",
    "input_file = open(input_file_name, \"r\")\n",
    "output_file = open(output_file_name, \"w\", newline='')\n",
    "\n",
    "reader = csv.reader(input_file, delimiter=\",\")\n",
    "writer = csv.writer(output_file, delimiter=\",\")\n",
    "\n",
    "header = next(reader)\n",
    "\n",
    "header_list = [\"Year\",\"Month\",\"Day\",\"Time\",\"TempK\"]\n",
    "writer.writerow(header_list)\n",
    "\n",
    "for row in reader:\n",
    "    Year, Month, Day, Time, TempA = row\n",
    "    TempB = round((float(TempA) +273.15),2)\n",
    "    writer.writerow([Year, Month, Day, Time, TempB])\n",
    "\n",
    "output_file.close()\n",
    "input_file.close()\n",
    "\n",
    "input_file_name = \"batchfile_2_kelvin.csv\"\n",
    "output_file_name = \"batchfile_3_farenheit.csv\"\n",
    "input_file = open(input_file_name, \"r\")\n",
    "output_file = open(output_file_name, \"w\", newline='')\n",
    "\n",
    "reader = csv.reader(input_file, delimiter=\",\")\n",
    "writer = csv.writer(output_file, delimiter=\",\")\n",
    "\n",
    "header = next(reader)\n",
    "\n",
    "header_list = [\"Year\",\"Month\",\"Day\",\"Time\",\"TempF\"]\n",
    "writer.writerow(header_list)\n",
    "\n",
    "for row in reader:\n",
    "    Year, Month, Day, Time, TempA = row\n",
    "    TempB = round(((float(TempA)* 9/5) - 459.67),2)  \n",
    "    writer.writerow([Year, Month, Day, Time, TempB])\n",
    "\n",
    "output_file.close()\n",
    "input_file.close()"
   ]
  }
 ],
 "metadata": {
  "kernelspec": {
   "display_name": "Python 3",
   "language": "python",
   "name": "python3"
  },
  "language_info": {
   "codemirror_mode": {
    "name": "ipython",
    "version": 3
   },
   "file_extension": ".py",
   "mimetype": "text/x-python",
   "name": "python",
   "nbconvert_exporter": "python",
   "pygments_lexer": "ipython3",
   "version": "3.11.1"
  },
  "orig_nbformat": 4,
  "vscode": {
   "interpreter": {
    "hash": "863b3a55134ab839f8749329ac3d58c92f67b3b74d9daad2228f98af9c593ba4"
   }
  }
 },
 "nbformat": 4,
 "nbformat_minor": 2
}
