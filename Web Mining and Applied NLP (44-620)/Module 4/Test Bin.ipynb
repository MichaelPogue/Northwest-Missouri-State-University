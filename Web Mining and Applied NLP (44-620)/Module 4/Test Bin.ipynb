{
 "cells": [
  {
   "cell_type": "code",
   "execution_count": 1,
   "metadata": {},
   "outputs": [
    {
     "name": "stdout",
     "output_type": "stream",
     "text": [
      "-0.14506172839506173\n"
     ]
    }
   ],
   "source": [
    "import requests\n",
    "import json\n",
    "import spacy \n",
    "from spacytextblob.spacytextblob import SpacyTextBlob\n",
    "from spacy.tokens import Doc\n",
    "\n",
    "AUTHOR='William Blake'\n",
    "POEM = 'The Tyger'\n",
    "\n",
    "URL = f'https://poetrydb.org/author,title/{AUTHOR};{POEM}'\n",
    "result = json.loads(requests.get(URL).text)\n",
    "poem = '\\n'.join(result[0]['lines'])\n",
    "\n",
    "\n",
    "nlp = spacy.load('en_core_web_sm')\n",
    "text = str(result)\n",
    "nlp.add_pipe(\"spacytextblob\")\n",
    "doc = nlp(text)\n",
    "print(doc._.blob.polarity)\n",
    "\n"
   ]
  },
  {
   "cell_type": "code",
   "execution_count": 2,
   "metadata": {},
   "outputs": [
    {
     "name": "stdout",
     "output_type": "stream",
     "text": [
      "Original Document: \n",
      " [{'title': 'The Tyger', 'author': 'William Blake', 'lines': ['Tyger, tyger, burning bright', 'In the forests of the night,', 'What immortal hand or eye', 'Could frame thy fearful symmetry?', '', 'In what distant deeps or skies', 'Burnt the fire of thine eyes?', 'On what wings dare he aspire?', 'What the hand dare seize the fire?', '', 'And what shoulder and what art', 'Could twist the sinews of thy heart?', 'And, when thy heart began to beat,', 'What dread hand and what dread feet?', '', 'What the hammer?  what the chain?', 'In what furnace was thy brain?', 'What the anvil? what dread grasp', 'Dare its deadly terrors clasp?', '', 'When the stars threw down their spears,', 'And watered heaven with their tears,', 'Did he smile his work to see?', 'Did he who made the lamb make thee?', '', 'Tyger, tyger, burning bright', 'In the forests of the night,', 'What immortal hand or eye', 'Dare frame thy fearful symmetry?'], 'linecount': '24'}]\n",
      "\n",
      "Count of text: 946. Count of doc: 285\n",
      "\n",
      "Raw polarity Score: -0.14506172839506173 \n",
      "Polarity Score: -0.15\n",
      "\n",
      "With a score of -0.15, we have a slightly negative yet almost neutural text reaction.\n"
     ]
    }
   ],
   "source": [
    "nlp = spacy.load('en_core_web_sm')\n",
    "text = str(result)\n",
    "nlp.add_pipe(\"spacytextblob\")\n",
    "doc = nlp(text)\n",
    "p_score = doc._.blob.polarity\n",
    "\n",
    "print('Original Document: \\n', doc)\n",
    "print(f'\\nCount of text: {len(text)}. Count of doc: {len(doc)}')\n",
    "print(f'\\nRaw polarity Score: {p_score} \\nPolarity Score: {round(p_score, 2)}')\n",
    "print('\\nWith a score of -0.15, we have a slightly negative yet almost neutural text reaction.')"
   ]
  },
  {
   "cell_type": "code",
   "execution_count": 3,
   "metadata": {},
   "outputs": [
    {
     "name": "stdout",
     "output_type": "stream",
     "text": [
      "[\n",
      "{\n",
      "'\n",
      "t\n",
      "i\n",
      "t\n",
      "l\n",
      "e\n",
      "'\n",
      ":\n"
     ]
    }
   ],
   "source": [
    "for token in text[0:10]:\n",
    "    print (token)"
   ]
  },
  {
   "cell_type": "code",
   "execution_count": 4,
   "metadata": {},
   "outputs": [
    {
     "name": "stdout",
     "output_type": "stream",
     "text": [
      "[\n",
      "{\n",
      "'\n",
      "title\n",
      "'\n",
      ":\n",
      "'\n",
      "The\n",
      "Tyger\n",
      "'\n"
     ]
    }
   ],
   "source": [
    "for token in doc[0:10]:\n",
    "    print (token)"
   ]
  },
  {
   "cell_type": "code",
   "execution_count": 5,
   "metadata": {},
   "outputs": [
    {
     "name": "stdout",
     "output_type": "stream",
     "text": [
      "[{'title':\n",
      "'The\n",
      "Tyger',\n",
      "'author':\n",
      "'William\n",
      "Blake',\n",
      "'lines':\n",
      "['Tyger,\n",
      "tyger,\n",
      "burning\n"
     ]
    }
   ],
   "source": [
    "for token in text.split()[:10]:\n",
    "    print(token)"
   ]
  },
  {
   "cell_type": "code",
   "execution_count": 6,
   "metadata": {},
   "outputs": [
    {
     "name": "stdout",
     "output_type": "stream",
     "text": [
      "[{'title': 'The Tyger', 'author': 'William Blake', 'lines':\n",
      "['Tyger, tyger, burning bright', 'In the forests of the night,', 'What immortal hand or eye', 'Could frame thy fearful symmetry?', '', 'In what distant deeps or skies', 'Burnt the fire of thine eyes?', 'On what wings dare he aspire?', 'What the hand dare seize the fire?', '', 'And what shoulder and what art', 'Could twist the sinews of thy heart?', 'And, when thy heart began to beat,', 'What dread hand and what dread feet?', '', 'What the hammer?  \n",
      "what the chain?', 'In what furnace was thy brain?', 'What the anvil?\n",
      "what dread grasp', 'Dare its deadly terrors clasp?', '', 'When the stars threw down their spears,', 'And watered heaven with their tears,', 'Did he smile his work to see?', 'Did he who made the lamb make thee?', '', 'Tyger, tyger, burning bright', 'In the forests of the night,', 'What immortal hand or eye', 'Dare frame thy fearful symmetry?'], 'linecount': '24'}]\n"
     ]
    }
   ],
   "source": [
    "for sent in doc.sents:\n",
    "    print(sent)"
   ]
  },
  {
   "cell_type": "code",
   "execution_count": 7,
   "metadata": {},
   "outputs": [
    {
     "ename": "TypeError",
     "evalue": "'generator' object is not subscriptable",
     "output_type": "error",
     "traceback": [
      "\u001b[1;31m---------------------------------------------------------------------------\u001b[0m",
      "\u001b[1;31mTypeError\u001b[0m                                 Traceback (most recent call last)",
      "Cell \u001b[1;32mIn [7], line 1\u001b[0m\n\u001b[1;32m----> 1\u001b[0m sentence1 \u001b[39m=\u001b[39m doc\u001b[39m.\u001b[39;49msents[\u001b[39m0\u001b[39;49m]\n\u001b[0;32m      2\u001b[0m \u001b[39mprint\u001b[39m(sentence1)\n",
      "\u001b[1;31mTypeError\u001b[0m: 'generator' object is not subscriptable"
     ]
    }
   ],
   "source": [
    "sentence1 = doc.sents[0]\n",
    "print(sentence1)"
   ]
  },
  {
   "cell_type": "code",
   "execution_count": null,
   "metadata": {},
   "outputs": [],
   "source": [
    "sentence1 = list(doc.sents)[1]\n",
    "print(sentence1)"
   ]
  },
  {
   "cell_type": "code",
   "execution_count": null,
   "metadata": {},
   "outputs": [],
   "source": [
    "for token in doc[:10]:\n",
    "    print(token)"
   ]
  },
  {
   "cell_type": "code",
   "execution_count": null,
   "metadata": {},
   "outputs": [],
   "source": [
    "token2 = sentence1[4]\n",
    "print(token2)"
   ]
  },
  {
   "cell_type": "code",
   "execution_count": null,
   "metadata": {},
   "outputs": [],
   "source": [
    "token2.text"
   ]
  },
  {
   "cell_type": "code",
   "execution_count": null,
   "metadata": {},
   "outputs": [],
   "source": [
    "token2.left_edge"
   ]
  },
  {
   "cell_type": "code",
   "execution_count": null,
   "metadata": {},
   "outputs": [],
   "source": [
    "token2.right_edge"
   ]
  },
  {
   "cell_type": "code",
   "execution_count": null,
   "metadata": {},
   "outputs": [],
   "source": [
    "token2.ent_type"
   ]
  },
  {
   "cell_type": "code",
   "execution_count": null,
   "metadata": {},
   "outputs": [],
   "source": [
    "token2.ent_type_"
   ]
  },
  {
   "cell_type": "code",
   "execution_count": null,
   "metadata": {},
   "outputs": [],
   "source": [
    "text2 = \"herp derp blerp\"\n",
    "doc2 = nlp(text2)"
   ]
  },
  {
   "cell_type": "code",
   "execution_count": null,
   "metadata": {},
   "outputs": [],
   "source": [
    "for token in doc2:\n",
    "    print(token.doc2, token.pos_,token.dep_)"
   ]
  },
  {
   "cell_type": "code",
   "execution_count": null,
   "metadata": {},
   "outputs": [],
   "source": [
    "import requests\n",
    "import json\n",
    "import spacy \n",
    "from spacytextblob.spacytextblob import SpacyTextBlob\n",
    "\n",
    "AUTHOR='Rupert Brooke'\n",
    "POEM = 'Home'\n",
    "\n",
    "URL = f'https://poetrydb.org/author,title/{AUTHOR};{POEM}'\n",
    "result = json.loads(requests.get(URL).text)\n",
    "poem = '\\n'.join(result[0]['lines'])\n",
    "\n",
    "print(result)"
   ]
  },
  {
   "cell_type": "code",
   "execution_count": null,
   "metadata": {},
   "outputs": [],
   "source": [
    "request_name = input('What is the full name of the author?') # 'William Blake'\n",
    "request_poem = input('What is the name of the poem?')        # 'The Tyger'   \n",
    "\n",
    "AUTHOR = request_name\n",
    "POEM = request_poem\n",
    "\n",
    "def function(AUTHOR, POEM):\n",
    "    URL = f'https://poetrydb.org/author,title/{AUTHOR};{POEM}'\n",
    "    result = json.loads(requests.get(URL).text)\n",
    "    poem = '\\n'.join(result[0]['lines'])\n",
    "\n",
    "print(result)"
   ]
  },
  {
   "cell_type": "code",
   "execution_count": null,
   "metadata": {},
   "outputs": [],
   "source": [
    "import requests\n",
    "import json\n",
    "import spacy \n",
    "from spacytextblob.spacytextblob import SpacyTextBlob\n",
    "\n",
    "request_name = 'Robinson' # input('What is the full name of the author?') # 'William Blake' 'Robinson'\n",
    "request_poem = 'Stanzas of the Rose' # input('What is the name of the poem?')        # 'The Tyger' 'Stanzas of the Rose'\n",
    "\n",
    "def function(request_name, request_poem):\n",
    "    URL = f'https://poetrydb.org/author,title/{request_name};{request_poem}'\n",
    "    result = json.loads(requests.get(URL).text)\n",
    "    poem = '\\n'.join(result[0]['lines'])\n",
    "\n",
    "print(poem)"
   ]
  },
  {
   "cell_type": "code",
   "execution_count": null,
   "metadata": {},
   "outputs": [],
   "source": [
    "import requests\n",
    "import json\n",
    "import spacy \n",
    "from spacytextblob.spacytextblob import SpacyTextBlob\n",
    "\n",
    "AUTHOR='Rupert Brooke'\n",
    "POEM = 'Home'\n",
    "\n",
    "URL = f'https://poetrydb.org/author,title/{AUTHOR};{POEM}'\n",
    "result = json.loads(requests.get(URL).text)\n",
    "poem = '\\n'.join(result[0]['lines'])\n",
    "\n",
    "print(result)"
   ]
  },
  {
   "cell_type": "code",
   "execution_count": null,
   "metadata": {},
   "outputs": [],
   "source": [
    "import requests\n",
    "import json\n",
    "import spacy \n",
    "from spacytextblob.spacytextblob import SpacyTextBlob\n",
    "\n",
    "request_name = 'William Blake' # 'Rupert Brooke' #  'Robinson'AUTHOR='Rupert Brooke'\n",
    "request_poem = 'The Tyger' # 'Stanzas of the Rose' # 'Home' # input('What is the name of the poem?')        # \n",
    "\n",
    "def function():\n",
    "    URL = f'https://poetrydb.org/author,title/{request_name};{request_poem}'\n",
    "    result = json.loads(requests.get(URL).text)\n",
    "    nlp = spacy.load('en_core_web_sm')\n",
    "    text = str(result)\n",
    "    nlp.add_pipe(\"spacytextblob\")\n",
    "    doc = nlp(text)\n",
    "\n",
    "    print('Information: ')\n",
    "    for entity in doc.ents:\n",
    "        print(entity.label_, entity.text)\n",
    "\n",
    "    p_score = doc._.blob.polarity\n",
    "    return doc\n",
    "\n",
    "# https://sematext.com/blog/entity-extraction-with-spacy/\n",
    "\n",
    "function()"
   ]
  },
  {
   "cell_type": "code",
   "execution_count": null,
   "metadata": {},
   "outputs": [],
   "source": [
    "print('Level 3 spells learned: ', player_character['spells']['level 3'])"
   ]
  },
  {
   "cell_type": "code",
   "execution_count": null,
   "metadata": {},
   "outputs": [],
   "source": [
    "import spacy\n",
    "en = spacy.load('en')\n",
    "\n",
    "sents = en(open('input.txt').read())\n",
    "people = [ee for ee in sents.ents if ee.label_ == 'PERSON']"
   ]
  },
  {
   "cell_type": "code",
   "execution_count": null,
   "metadata": {},
   "outputs": [],
   "source": [
    "doc = nlp(u\"#bbuzz 2016: Rafał Kuć - Running High Performance And Fault Tolerant Elasticsearch\")\n",
    "for entity in doc.ents:\n",
    "  print(entity.label_, ' | ', entity.text)"
   ]
  },
  {
   "cell_type": "code",
   "execution_count": null,
   "metadata": {},
   "outputs": [],
   "source": [
    "import requests\n",
    "import json\n",
    "import spacy \n",
    "from spacytextblob.spacytextblob import SpacyTextBlob\n",
    "\n",
    "request_name = 'William Blake' # 'Rupert Brooke' #  'Robinson'AUTHOR='Rupert Brooke'\n",
    "request_poem = 'The Tyger' # 'Stanzas of the Rose' # 'Home' # input('What is the name of the poem?')        # \n",
    "\n",
    "URL = f'https://poetrydb.org/author,title/{request_name};{request_poem}'\n",
    "result = json.loads(requests.get(URL).text)\n",
    "nlp = spacy.load('en_core_web_sm')\n",
    "text = str(result)\n",
    "nlp.add_pipe(\"spacytextblob\")\n",
    "doc = nlp(text)\n",
    "\n",
    "\n",
    "# https://sematext.com/blog/entity-extraction-with-spacy/\n",
    "\n"
   ]
  },
  {
   "cell_type": "code",
   "execution_count": null,
   "metadata": {},
   "outputs": [],
   "source": [
    "print(result['title'])"
   ]
  },
  {
   "cell_type": "code",
   "execution_count": null,
   "metadata": {},
   "outputs": [],
   "source": [
    "import requests\n",
    "import json\n",
    "import spacy \n",
    "from spacytextblob.spacytextblob import SpacyTextBlob\n",
    "\n",
    "request_name = 'William Blake' \n",
    "request_poem = 'The Tyger'\n",
    "\n",
    "URL = f'https://poetrydb.org/author,title/{request_name};{request_poem}'\n",
    "json_object = json.loads(requests.get(URL).text)\n"
   ]
  },
  {
   "cell_type": "code",
   "execution_count": null,
   "metadata": {},
   "outputs": [],
   "source": [
    "answers = '[{\"preview\":true,\"offset\":0,\"result\":{\"Country\":\"AU\",\"count\":\"417\"}}' + \\\n",
    "          ',{\"preview\":true,\"offset\":1,\"result\":{\"Country\":\"BG\",\"count\":\"7\"}}]'\n",
    "json_obj = json.loads(answers)\n",
    "for i in json_obj:\n",
    "    print(i['result']['Country'], i['result']['count'])"
   ]
  },
  {
   "cell_type": "code",
   "execution_count": null,
   "metadata": {},
   "outputs": [],
   "source": [
    "for i in json_object:\n",
    "    print('Title: ',i['title'], '\\nAuthor:', i['author'] )"
   ]
  },
  {
   "cell_type": "markdown",
   "metadata": {},
   "source": [
    "import requests\n",
    "import json\n",
    "import spacy \n",
    "from spacytextblob.spacytextblob import SpacyTextBlob\n",
    "\n",
    "request_name = 'Blake'#'Robinson' # input('What is the name of the author?') 'Rupert Brooke''William Blake'\n",
    "request_poem = 'Tyger'# Home' # input('What is the name of the poem?')'Stanzas of the Rose''The Tyger'\n",
    "\n",
    "def function():\n",
    "    URL = f'https://poetrydb.org/author,title/{request_name};{request_poem}'\n",
    "    result = json.loads(requests.get(URL).text)\n",
    "    nlp = spacy.load('en_core_web_sm')\n",
    "    text = str(result)\n",
    "    nlp.add_pipe(\"spacytextblob\")\n",
    "    doc = nlp(text)\n",
    "    p_score = doc._.blob.polarity\n",
    "    return doc\n",
    "\n",
    "function()"
   ]
  },
  {
   "cell_type": "code",
   "execution_count": null,
   "metadata": {},
   "outputs": [],
   "source": [
    "import requests\n",
    "import json\n",
    "import spacy \n",
    "from spacytextblob.spacytextblob import SpacyTextBlob\n",
    "\n",
    "request_name = 'Blake'#'Robinson' # input('What is the name of the author?') 'Rupert Brooke''William Blake'\n",
    "request_poem = 'Tyger'# Home' # input('What is the name of the poem?')'Stanzas of the Rose''The Tyger'\n",
    "\n",
    "URL = f'https://poetrydb.org/author,title/{request_name};{request_poem}'\n",
    "json_object = json.loads(requests.get(URL).text)\n",
    "nlp = spacy.load('en_core_web_sm')\n",
    "text=str(json_object)\n",
    "doc = nlp(text)"
   ]
  },
  {
   "cell_type": "code",
   "execution_count": null,
   "metadata": {},
   "outputs": [],
   "source": [
    "import requests\n",
    "import json\n",
    "import spacy \n",
    "from spacytextblob.spacytextblob import SpacyTextBlob\n",
    "\n",
    "request_name = 'Blake'#'Robinson' # input('What is the name of the author?') 'Rupert Brooke''William Blake'\n",
    "request_poem = 'Tyger'# Home' # input('What is the name of the poem?')'Stanzas of the Rose''The Tyger'\n",
    "\n",
    "def write_item_from_this_API_to_json():\n",
    "    URL = f'https://poetrydb.org/author,title/{request_name};{request_poem}'\n",
    "    json_object = json.loads(requests.get(URL).text)\n",
    "    print(json_object)\n",
    "\n",
    "def list_item_information():\n",
    "    for i in json_object:\n",
    "        print('Title: ',i['title'], '\\nAuthor:', i['author'])\n",
    "\n",
    "list_item_information()"
   ]
  },
  {
   "cell_type": "code",
   "execution_count": null,
   "metadata": {},
   "outputs": [],
   "source": [
    "import json\n",
    " \n",
    "# Data to be written\n",
    "dictionary = {\n",
    "    \"name\": \"sathiyajith\",\n",
    "    \"rollno\": 56,\n",
    "    \"cgpa\": 8.6,\n",
    "    \"phonenumber\": \"9976770500\"\n",
    "}\n",
    " \n",
    "# Serializing json\n",
    "json_object = json.dumps(dictionary, indent=4)\n",
    "test1 = 'weeeeeeeeeeeeeeeeeeeee'\n",
    "# Writing to sample.json\n",
    "with open('[test1].json', \"w\") as outfile:\n",
    "    outfile.write(json_object)\n",
    "\n",
    "test1 = json.load"
   ]
  },
  {
   "cell_type": "code",
   "execution_count": null,
   "metadata": {},
   "outputs": [],
   "source": [
    "# Opening JSON file\n",
    "with open('choice_1.json', 'r') as openfile: \n",
    "    # Reading from json file\n",
    "    json_object = json.load(openfile)\n",
    "\n",
    "print(json_object)\n",
    "print(type(json_object))"
   ]
  },
  {
   "cell_type": "code",
   "execution_count": null,
   "metadata": {},
   "outputs": [],
   "source": [
    "import requests\n",
    "import json\n",
    "import spacy \n",
    "from spacytextblob.spacytextblob import SpacyTextBlob\n",
    "\n",
    "request_name = 'Blake'#'Robinson' # input('What is the name of the author?') 'Rupert Brooke''William Blake'\n",
    "request_poem = 'Tyger'# Home' # input('What is the name of the poem?')'Stanzas of the Rose''The Tyger'\n",
    "\n",
    "def write_item_from_this_API_to_json():\n",
    "    URL = f'https://poetrydb.org/author,title/{request_name};{request_poem}'\n",
    "    json_object = json.loads(requests.get(URL).text)\n",
    "    \n",
    "    with open(f\"{request_poem}.json\", \"w\") as outfile:\n",
    "        json.dump(json_object, outfile)\n",
    "\n",
    "write_item_from_this_API_to_json()"
   ]
  },
  {
   "cell_type": "code",
   "execution_count": null,
   "metadata": {},
   "outputs": [
    {
     "name": "stdout",
     "output_type": "stream",
     "text": [
      "Poem Title:    The Tyger\n",
      "Poem Author:   William Blake\n",
      "['Tyger, tyger, burning bright', 'In the forests of the night,', 'What immortal hand or eye', 'Could frame thy fearful symmetry?', '', 'In what distant deeps or skies', 'Burnt the fire of thine eyes?', 'On what wings dare he aspire?', 'What the hand dare seize the fire?', '', 'And what shoulder and what art', 'Could twist the sinews of thy heart?', 'And, when thy heart began to beat,', 'What dread hand and what dread feet?', '', 'What the hammer?  what the chain?', 'In what furnace was thy brain?', 'What the anvil? what dread grasp', 'Dare its deadly terrors clasp?', '', 'When the stars threw down their spears,', 'And watered heaven with their tears,', 'Did he smile his work to see?', 'Did he who made the lamb make thee?', '', 'Tyger, tyger, burning bright', 'In the forests of the night,', 'What immortal hand or eye', 'Dare frame thy fearful symmetry?']\n"
     ]
    }
   ],
   "source": [
    "def list_item_information():\n",
    "    for i in json_object:\n",
    "        body = i['lines']        \n",
    "        print(f\"{'Poem Title:':<14} {i['title']}\")\n",
    "        print(f\"{'Poem Author:':<15}{i['author']}\")\n",
    "        print(body)\n",
    "list_item_information()\n",
    "\n"
   ]
  },
  {
   "cell_type": "code",
   "execution_count": null,
   "metadata": {},
   "outputs": [],
   "source": [
    "import json\n",
    " \n",
    "# We can straight away open the json file in 'read' mode, \n",
    "# the way we do it with .txt and .csv files\n",
    "with open(\"example.json\",\"r\") as file:\n",
    "    jsonData = json.load(file)\n",
    " \n",
    "print(\"Type of JSON Object: \", type(jsonData))\n",
    " \n",
    "# Traversing the json file\n",
    "for name in jsonData:\n",
    "    print(\"Name: \", name)\n",
    "    print(\"Phone Number: \", jsonData[name][\"number\"])\n",
    "    print(\"Age: \", jsonData[name][\"age\"])\n",
    "    \n",
    "    print(\"Address:\")\n",
    "    for line in jsonData[name][\"address\"]:\n",
    "        print(line)\n",
    "    print()\n"
   ]
  },
  {
   "cell_type": "code",
   "execution_count": null,
   "metadata": {},
   "outputs": [],
   "source": [
    "# Import required modules\n",
    "import requests\n",
    "import json\n",
    "import spacy \n",
    "from spacytextblob.spacytextblob import SpacyTextBlob\n",
    "\n",
    "#%%%%% DELETE MEEEEEE https://poetrydb.org/author/Thomas%20Moore\n",
    "\n",
    "# Create function\n",
    "def func_write_song_from_api_to_json(request_name, request_poem):\n",
    "    # Pull function's data\n",
    "    URL = f'https://poetrydb.org/author,title/{request_name};{request_poem}'\n",
    "    json_object = json.loads(requests.get(URL).text)\n",
    "    \n",
    "    # Sentiment analysis\n",
    "    nlp = spacy.load('en_core_web_sm')\n",
    "    nlp.add_pipe(\"spacytextblob\")\n",
    "    \n",
    "    # Modify data\n",
    "    text = str(json_object)\n",
    "    doc = nlp(text)    \n",
    "    p_score = doc._.blob.polarity\n",
    "    \n",
    "    # Print information\n",
    "    for i in json_object:\n",
    "        body = i['lines']  \n",
    "        title = i['title']\n",
    "        print(f\"{'Poem Title:':<19} {i['title']}\")\n",
    "        print(f\"{'Poem Author:':<20}{i['author']}\")\n",
    "        print(f\"{'Polarity Score:':<20}{round(p_score,2)}\")\n",
    "        print('\\n',body)\n",
    "    \n",
    "    # Write the data\n",
    "    with open(f\"{title}.json\", \"w\") as outfile:\n",
    "        json.dump(json_object, outfile)\n",
    "\n",
    "# Define variables\n",
    "request_name = 'Robinson' #input('What is the full name of the author?')\n",
    "request_poem = 'Stanzas to the Rose' #input('What is the name of the poem?')          \n",
    "\n",
    "# Execute function\n",
    "func_write_song_from_api_to_json(request_name, request_poem)\n",
    "\n",
    "# file1 = 'The Tyger'             # 'William Blake'  \n",
    "# file2 = 'The Alley'             # 'Alexander Pope'\n",
    "# file3 = 'Stanzas to the Rose'   # 'Robinson'\n"
   ]
  },
  {
   "cell_type": "code",
   "execution_count": null,
   "metadata": {},
   "outputs": [],
   "source": [
    "file1 = 'The Tyger'             # 'William Blake'  \n",
    "file2 = 'The Alley'             # 'Alexander Pope'\n",
    "file3 = 'Stanzas to the Rose'   # 'Robinson'\n",
    "\n",
    "def func_read_song_from_api_in_json(file_choice):\n",
    "    nlp = spacy.load('en_core_web_sm')\n",
    "    nlp.add_pipe(\"spacytextblob\") \n",
    "    with open(f'{file_choice}.json','r') as file:\n",
    "        json_data = json.load(file)\n",
    "\n",
    "    text = str(json_data)\n",
    "    doc = nlp(text)    \n",
    "    p_score = doc._.blob.polarity\n",
    "\n",
    "    for i in json_data:\n",
    "        body = i['lines']  \n",
    "        print(f\"{'Poem Title:':<19} {i['title']}\")\n",
    "        print(f\"{'Poem Author:':<20}{i['author']}\")\n",
    "        print(f\"{'Polarity Score:':<20}{round(p_score,2)}\")\n",
    "        print('\\n',body)\n",
    "\n",
    "\n",
    "func_read_song_from_api_in_json(file3)\n"
   ]
  }
 ],
 "metadata": {
  "kernelspec": {
   "display_name": "Python 3.10.8 64-bit (microsoft store)",
   "language": "python",
   "name": "python3"
  },
  "language_info": {
   "codemirror_mode": {
    "name": "ipython",
    "version": 3
   },
   "file_extension": ".py",
   "mimetype": "text/x-python",
   "name": "python",
   "nbconvert_exporter": "python",
   "pygments_lexer": "ipython3",
   "version": "3.10.8"
  },
  "orig_nbformat": 4,
  "vscode": {
   "interpreter": {
    "hash": "0ae41e45250eb696c2277dfbd939b9be222f957334433f60364f37f2e4b8f76d"
   }
  }
 },
 "nbformat": 4,
 "nbformat_minor": 2
}
