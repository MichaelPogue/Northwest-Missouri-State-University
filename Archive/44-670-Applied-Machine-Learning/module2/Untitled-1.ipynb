{
 "cells": [
  {
   "cell_type": "code",
   "execution_count": 3,
   "metadata": {},
   "outputs": [
    {
     "data": {
      "text/plain": [
       "'Salary Dataset'"
      ]
     },
     "execution_count": 3,
     "metadata": {},
     "output_type": "execute_result"
    }
   ],
   "source": [
    "import pathlib\n",
    "import os\n",
    "from pathlib import Path\n",
    "\n",
    "path = str(pathlib.Path().resolve())\n",
    "\n",
    "for path in Path(path).rglob('*.csv'):\n",
    "    file = path.name\n",
    "    path = str(pathlib.Path().resolve())\n",
    "    filename = Path(file)\n",
    "    filename_wo_ext = filename.with_suffix('')\n",
    "    file = str(filename_wo_ext)\n",
    "file"
   ]
  },
  {
   "cell_type": "code",
   "execution_count": null,
   "metadata": {},
   "outputs": [],
   "source": [
    "import pandas as pd\n",
    "import pathlib\n",
    "import os\n",
    "from pathlib import Path\n",
    "\n",
    "path = str(pathlib.Path().resolve())\n",
    "\n",
    "for path in Path(path).rglob('*.csv'):\n",
    "    file = path.name\n",
    "    path = str(pathlib.Path().resolve())\n",
    "    filename = Path(file)\n",
    "    filename_wo_ext = filename.with_suffix('')\n",
    "    file = str(filename_wo_ext)\n",
    "\n",
    "data_frame = pd.read_csv(file)\n",
    "\n",
    "print(data_frame.keys())\n",
    "\n",
    "print()\n",
    "data_frame.head(n=10)\n",
    "data_frame.info()\n",
    "data_frame.hist(bins=30)"
   ]
  }
 ],
 "metadata": {
  "kernelspec": {
   "display_name": "Python 3",
   "language": "python",
   "name": "python3"
  },
  "language_info": {
   "codemirror_mode": {
    "name": "ipython",
    "version": 3
   },
   "file_extension": ".py",
   "mimetype": "text/x-python",
   "name": "python",
   "nbconvert_exporter": "python",
   "pygments_lexer": "ipython3",
   "version": "3.11.2"
  },
  "orig_nbformat": 4
 },
 "nbformat": 4,
 "nbformat_minor": 2
}
