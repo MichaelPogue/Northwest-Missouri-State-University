{
 "cells": [
  {
   "cell_type": "code",
   "execution_count": 1,
   "metadata": {},
   "outputs": [
    {
     "name": "stdout",
     "output_type": "stream",
     "text": [
      "-0.14506172839506173\n"
     ]
    }
   ],
   "source": [
    "import requests\n",
    "import json\n",
    "import spacy \n",
    "from spacytextblob.spacytextblob import SpacyTextBlob\n",
    "from spacy.tokens import Doc\n",
    "\n",
    "AUTHOR='William Blake'\n",
    "POEM = 'The Tyger'\n",
    "\n",
    "URL = f'https://poetrydb.org/author,title/{AUTHOR};{POEM}'\n",
    "result = json.loads(requests.get(URL).text)\n",
    "poem = '\\n'.join(result[0]['lines'])\n",
    "\n",
    "\n",
    "nlp = spacy.load('en_core_web_sm')\n",
    "text = str(result)\n",
    "nlp.add_pipe(\"spacytextblob\")\n",
    "doc = nlp(text)\n",
    "print(doc._.blob.polarity)\n",
    "\n"
   ]
  },
  {
   "cell_type": "code",
   "execution_count": 2,
   "metadata": {},
   "outputs": [
    {
     "name": "stdout",
     "output_type": "stream",
     "text": [
      "Original Document: \n",
      " [{'title': 'The Tyger', 'author': 'William Blake', 'lines': ['Tyger, tyger, burning bright', 'In the forests of the night,', 'What immortal hand or eye', 'Could frame thy fearful symmetry?', '', 'In what distant deeps or skies', 'Burnt the fire of thine eyes?', 'On what wings dare he aspire?', 'What the hand dare seize the fire?', '', 'And what shoulder and what art', 'Could twist the sinews of thy heart?', 'And, when thy heart began to beat,', 'What dread hand and what dread feet?', '', 'What the hammer?  what the chain?', 'In what furnace was thy brain?', 'What the anvil? what dread grasp', 'Dare its deadly terrors clasp?', '', 'When the stars threw down their spears,', 'And watered heaven with their tears,', 'Did he smile his work to see?', 'Did he who made the lamb make thee?', '', 'Tyger, tyger, burning bright', 'In the forests of the night,', 'What immortal hand or eye', 'Dare frame thy fearful symmetry?'], 'linecount': '24'}]\n",
      "\n",
      "Count of text: 946. Count of doc: 285\n",
      "\n",
      "Raw polarity Score: -0.14506172839506173 \n",
      "Polarity Score: -0.15\n",
      "\n",
      "With a score of -0.15, we have a slightly negative yet almost neutural text reaction.\n"
     ]
    }
   ],
   "source": [
    "nlp = spacy.load('en_core_web_sm')\n",
    "text = str(result)\n",
    "nlp.add_pipe(\"spacytextblob\")\n",
    "doc = nlp(text)\n",
    "p_score = doc._.blob.polarity\n",
    "\n",
    "print('Original Document: \\n', doc)\n",
    "print(f'\\nCount of text: {len(text)}. Count of doc: {len(doc)}')\n",
    "print(f'\\nRaw polarity Score: {p_score} \\nPolarity Score: {round(p_score, 2)}')\n",
    "print('\\nWith a score of -0.15, we have a slightly negative yet almost neutural text reaction.')"
   ]
  },
  {
   "cell_type": "code",
   "execution_count": 3,
   "metadata": {},
   "outputs": [
    {
     "name": "stdout",
     "output_type": "stream",
     "text": [
      "[\n",
      "{\n",
      "'\n",
      "t\n",
      "i\n",
      "t\n",
      "l\n",
      "e\n",
      "'\n",
      ":\n"
     ]
    }
   ],
   "source": [
    "for token in text[0:10]:\n",
    "    print (token)"
   ]
  },
  {
   "cell_type": "code",
   "execution_count": 4,
   "metadata": {},
   "outputs": [
    {
     "name": "stdout",
     "output_type": "stream",
     "text": [
      "[\n",
      "{\n",
      "'\n",
      "title\n",
      "'\n",
      ":\n",
      "'\n",
      "The\n",
      "Tyger\n",
      "'\n"
     ]
    }
   ],
   "source": [
    "for token in doc[0:10]:\n",
    "    print (token)"
   ]
  },
  {
   "cell_type": "code",
   "execution_count": 5,
   "metadata": {},
   "outputs": [
    {
     "name": "stdout",
     "output_type": "stream",
     "text": [
      "[{'title':\n",
      "'The\n",
      "Tyger',\n",
      "'author':\n",
      "'William\n",
      "Blake',\n",
      "'lines':\n",
      "['Tyger,\n",
      "tyger,\n",
      "burning\n"
     ]
    }
   ],
   "source": [
    "for token in text.split()[:10]:\n",
    "    print(token)"
   ]
  },
  {
   "cell_type": "code",
   "execution_count": 6,
   "metadata": {},
   "outputs": [
    {
     "name": "stdout",
     "output_type": "stream",
     "text": [
      "[{'title': 'The Tyger', 'author': 'William Blake', 'lines':\n",
      "['Tyger, tyger, burning bright', 'In the forests of the night,', 'What immortal hand or eye', 'Could frame thy fearful symmetry?', '', 'In what distant deeps or skies', 'Burnt the fire of thine eyes?', 'On what wings dare he aspire?', 'What the hand dare seize the fire?', '', 'And what shoulder and what art', 'Could twist the sinews of thy heart?', 'And, when thy heart began to beat,', 'What dread hand and what dread feet?', '', 'What the hammer?  \n",
      "what the chain?', 'In what furnace was thy brain?', 'What the anvil?\n",
      "what dread grasp', 'Dare its deadly terrors clasp?', '', 'When the stars threw down their spears,', 'And watered heaven with their tears,', 'Did he smile his work to see?', 'Did he who made the lamb make thee?', '', 'Tyger, tyger, burning bright', 'In the forests of the night,', 'What immortal hand or eye', 'Dare frame thy fearful symmetry?'], 'linecount': '24'}]\n"
     ]
    }
   ],
   "source": [
    "for sent in doc.sents:\n",
    "    print(sent)"
   ]
  },
  {
   "cell_type": "code",
   "execution_count": 7,
   "metadata": {},
   "outputs": [
    {
     "ename": "TypeError",
     "evalue": "'generator' object is not subscriptable",
     "output_type": "error",
     "traceback": [
      "\u001b[1;31m---------------------------------------------------------------------------\u001b[0m",
      "\u001b[1;31mTypeError\u001b[0m                                 Traceback (most recent call last)",
      "Cell \u001b[1;32mIn [7], line 1\u001b[0m\n\u001b[1;32m----> 1\u001b[0m sentence1 \u001b[39m=\u001b[39m doc\u001b[39m.\u001b[39;49msents[\u001b[39m0\u001b[39;49m]\n\u001b[0;32m      2\u001b[0m \u001b[39mprint\u001b[39m(sentence1)\n",
      "\u001b[1;31mTypeError\u001b[0m: 'generator' object is not subscriptable"
     ]
    }
   ],
   "source": [
    "sentence1 = doc.sents[0]\n",
    "print(sentence1)"
   ]
  },
  {
   "cell_type": "code",
   "execution_count": null,
   "metadata": {},
   "outputs": [],
   "source": [
    "sentence1 = list(doc.sents)[1]\n",
    "print(sentence1)"
   ]
  },
  {
   "cell_type": "code",
   "execution_count": null,
   "metadata": {},
   "outputs": [],
   "source": [
    "for token in doc[:10]:\n",
    "    print(token)"
   ]
  },
  {
   "cell_type": "code",
   "execution_count": null,
   "metadata": {},
   "outputs": [],
   "source": [
    "token2 = sentence1[4]\n",
    "print(token2)"
   ]
  },
  {
   "cell_type": "code",
   "execution_count": null,
   "metadata": {},
   "outputs": [],
   "source": [
    "token2.text"
   ]
  },
  {
   "cell_type": "code",
   "execution_count": null,
   "metadata": {},
   "outputs": [],
   "source": [
    "token2.left_edge"
   ]
  },
  {
   "cell_type": "code",
   "execution_count": null,
   "metadata": {},
   "outputs": [],
   "source": [
    "token2.right_edge"
   ]
  },
  {
   "cell_type": "code",
   "execution_count": null,
   "metadata": {},
   "outputs": [],
   "source": [
    "token2.ent_type"
   ]
  },
  {
   "cell_type": "code",
   "execution_count": null,
   "metadata": {},
   "outputs": [],
   "source": [
    "token2.ent_type_"
   ]
  },
  {
   "cell_type": "code",
   "execution_count": null,
   "metadata": {},
   "outputs": [],
   "source": [
    "text2 = \"herp derp blerp\"\n",
    "doc2 = nlp(text2)"
   ]
  },
  {
   "cell_type": "code",
   "execution_count": null,
   "metadata": {},
   "outputs": [],
   "source": [
    "for token in doc2:\n",
    "    print(token.doc2, token.pos_,token.dep_)"
   ]
  },
  {
   "cell_type": "code",
   "execution_count": null,
   "metadata": {},
   "outputs": [
    {
     "name": "stdout",
     "output_type": "stream",
     "text": [
      "[{'title': 'Home', 'author': 'Rupert Brooke', 'lines': ['I came back late and tired last night', 'Into my little room,', 'To the long chair and the firelight', 'And comfortable gloom.', '', 'But as I entered softly in', 'I saw a woman there,', 'The line of neck and cheek and chin,', 'The darkness of her hair,', 'The form of one I did not know', 'Sitting in my chair.', '', 'I stood a moment fierce and still,', 'Watching her neck and hair.', 'I made a step to her; and saw', 'That there was no one there.', '', 'It was some trick of the firelight', 'That made me see her there.', 'It was a chance of shade and light', 'And the cushion in the chair.', '', 'Oh, all you happy over the earth,', 'That night, how could I sleep?', 'I lay and watched the lonely gloom;', 'And watched the moonlight creep', 'From wall to basin, round the room,', 'All night I could not sleep.'], 'linecount': '24'}]\n"
     ]
    }
   ],
   "source": [
    "import requests\n",
    "import json\n",
    "import spacy \n",
    "from spacytextblob.spacytextblob import SpacyTextBlob\n",
    "\n",
    "AUTHOR='Rupert Brooke'\n",
    "POEM = 'Home'\n",
    "\n",
    "URL = f'https://poetrydb.org/author,title/{AUTHOR};{POEM}'\n",
    "result = json.loads(requests.get(URL).text)\n",
    "poem = '\\n'.join(result[0]['lines'])\n",
    "\n",
    "print(result)"
   ]
  },
  {
   "cell_type": "code",
   "execution_count": null,
   "metadata": {},
   "outputs": [],
   "source": [
    "request_name = input('What is the full name of the author?') # 'William Blake'\n",
    "request_poem = input('What is the name of the poem?')        # 'The Tyger'   \n",
    "\n",
    "AUTHOR = request_name\n",
    "POEM = request_poem\n",
    "\n",
    "def function(AUTHOR, POEM):\n",
    "    URL = f'https://poetrydb.org/author,title/{AUTHOR};{POEM}'\n",
    "    result = json.loads(requests.get(URL).text)\n",
    "    poem = '\\n'.join(result[0]['lines'])\n",
    "\n",
    "print(result)"
   ]
  },
  {
   "cell_type": "code",
   "execution_count": null,
   "metadata": {},
   "outputs": [
    {
     "name": "stdout",
     "output_type": "stream",
     "text": [
      "Tyger, tyger, burning bright\n",
      "In the forests of the night,\n",
      "What immortal hand or eye\n",
      "Could frame thy fearful symmetry?\n",
      "\n",
      "In what distant deeps or skies\n",
      "Burnt the fire of thine eyes?\n",
      "On what wings dare he aspire?\n",
      "What the hand dare seize the fire?\n",
      "\n",
      "And what shoulder and what art\n",
      "Could twist the sinews of thy heart?\n",
      "And, when thy heart began to beat,\n",
      "What dread hand and what dread feet?\n",
      "\n",
      "What the hammer?  what the chain?\n",
      "In what furnace was thy brain?\n",
      "What the anvil? what dread grasp\n",
      "Dare its deadly terrors clasp?\n",
      "\n",
      "When the stars threw down their spears,\n",
      "And watered heaven with their tears,\n",
      "Did he smile his work to see?\n",
      "Did he who made the lamb make thee?\n",
      "\n",
      "Tyger, tyger, burning bright\n",
      "In the forests of the night,\n",
      "What immortal hand or eye\n",
      "Dare frame thy fearful symmetry?\n"
     ]
    }
   ],
   "source": [
    "import requests\n",
    "import json\n",
    "import spacy \n",
    "from spacytextblob.spacytextblob import SpacyTextBlob\n",
    "\n",
    "request_name = 'Robinson' # input('What is the full name of the author?') # 'William Blake' 'Robinson'\n",
    "request_poem = 'Stanzas of the Rose' # input('What is the name of the poem?')        # 'The Tyger' 'Stanzas of the Rose'\n",
    "\n",
    "def function(request_name, request_poem):\n",
    "    URL = f'https://poetrydb.org/author,title/{request_name};{request_poem}'\n",
    "    result = json.loads(requests.get(URL).text)\n",
    "    poem = '\\n'.join(result[0]['lines'])\n",
    "\n",
    "print(poem)"
   ]
  },
  {
   "cell_type": "code",
   "execution_count": null,
   "metadata": {},
   "outputs": [
    {
     "name": "stdout",
     "output_type": "stream",
     "text": [
      "[{'title': 'Home', 'author': 'Rupert Brooke', 'lines': ['I came back late and tired last night', 'Into my little room,', 'To the long chair and the firelight', 'And comfortable gloom.', '', 'But as I entered softly in', 'I saw a woman there,', 'The line of neck and cheek and chin,', 'The darkness of her hair,', 'The form of one I did not know', 'Sitting in my chair.', '', 'I stood a moment fierce and still,', 'Watching her neck and hair.', 'I made a step to her; and saw', 'That there was no one there.', '', 'It was some trick of the firelight', 'That made me see her there.', 'It was a chance of shade and light', 'And the cushion in the chair.', '', 'Oh, all you happy over the earth,', 'That night, how could I sleep?', 'I lay and watched the lonely gloom;', 'And watched the moonlight creep', 'From wall to basin, round the room,', 'All night I could not sleep.'], 'linecount': '24'}]\n"
     ]
    }
   ],
   "source": [
    "import requests\n",
    "import json\n",
    "import spacy \n",
    "from spacytextblob.spacytextblob import SpacyTextBlob\n",
    "\n",
    "AUTHOR='Rupert Brooke'\n",
    "POEM = 'Home'\n",
    "\n",
    "URL = f'https://poetrydb.org/author,title/{AUTHOR};{POEM}'\n",
    "result = json.loads(requests.get(URL).text)\n",
    "poem = '\\n'.join(result[0]['lines'])\n",
    "\n",
    "print(result)"
   ]
  },
  {
   "cell_type": "code",
   "execution_count": 17,
   "metadata": {},
   "outputs": [
    {
     "name": "stdout",
     "output_type": "stream",
     "text": [
      "Information: \n",
      "ORG Tyger\n",
      "PERSON William Blake'\n"
     ]
    },
    {
     "data": {
      "text/plain": [
       "[{'title': 'The Tyger', 'author': 'William Blake', 'lines': ['Tyger, tyger, burning bright', 'In the forests of the night,', 'What immortal hand or eye', 'Could frame thy fearful symmetry?', '', 'In what distant deeps or skies', 'Burnt the fire of thine eyes?', 'On what wings dare he aspire?', 'What the hand dare seize the fire?', '', 'And what shoulder and what art', 'Could twist the sinews of thy heart?', 'And, when thy heart began to beat,', 'What dread hand and what dread feet?', '', 'What the hammer?  what the chain?', 'In what furnace was thy brain?', 'What the anvil? what dread grasp', 'Dare its deadly terrors clasp?', '', 'When the stars threw down their spears,', 'And watered heaven with their tears,', 'Did he smile his work to see?', 'Did he who made the lamb make thee?', '', 'Tyger, tyger, burning bright', 'In the forests of the night,', 'What immortal hand or eye', 'Dare frame thy fearful symmetry?'], 'linecount': '24'}]"
      ]
     },
     "execution_count": 17,
     "metadata": {},
     "output_type": "execute_result"
    }
   ],
   "source": [
    "import requests\n",
    "import json\n",
    "import spacy \n",
    "from spacytextblob.spacytextblob import SpacyTextBlob\n",
    "\n",
    "request_name = 'William Blake' # 'Rupert Brooke' #  'Robinson'AUTHOR='Rupert Brooke'\n",
    "request_poem = 'The Tyger' # 'Stanzas of the Rose' # 'Home' # input('What is the name of the poem?')        # \n",
    "\n",
    "def function():\n",
    "    URL = f'https://poetrydb.org/author,title/{request_name};{request_poem}'\n",
    "    result = json.loads(requests.get(URL).text)\n",
    "    nlp = spacy.load('en_core_web_sm')\n",
    "    text = str(result)\n",
    "    nlp.add_pipe(\"spacytextblob\")\n",
    "    doc = nlp(text)\n",
    "\n",
    "    print('Information: ')\n",
    "    for entity in doc.ents:\n",
    "        print(entity.label_, entity.text)\n",
    "\n",
    "    p_score = doc._.blob.polarity\n",
    "    return doc\n",
    "\n",
    "# https://sematext.com/blog/entity-extraction-with-spacy/\n",
    "\n",
    "function()"
   ]
  },
  {
   "cell_type": "code",
   "execution_count": null,
   "metadata": {},
   "outputs": [],
   "source": [
    "print('Level 3 spells learned: ', player_character['spells']['level 3'])"
   ]
  },
  {
   "cell_type": "code",
   "execution_count": null,
   "metadata": {},
   "outputs": [],
   "source": [
    "import spacy\n",
    "en = spacy.load('en')\n",
    "\n",
    "sents = en(open('input.txt').read())\n",
    "people = [ee for ee in sents.ents if ee.label_ == 'PERSON']"
   ]
  },
  {
   "cell_type": "code",
   "execution_count": 13,
   "metadata": {},
   "outputs": [
    {
     "name": "stdout",
     "output_type": "stream",
     "text": [
      "CARDINAL  |  #\n",
      "DATE  |  2016\n",
      "LOC  |  Rafał Kuć - Running High Performance\n"
     ]
    }
   ],
   "source": [
    "doc = nlp(u\"#bbuzz 2016: Rafał Kuć - Running High Performance And Fault Tolerant Elasticsearch\")\n",
    "for entity in doc.ents:\n",
    "  print(entity.label_, ' | ', entity.text)"
   ]
  }
 ],
 "metadata": {
  "kernelspec": {
   "display_name": "Python 3.11.0 64-bit",
   "language": "python",
   "name": "python3"
  },
  "language_info": {
   "codemirror_mode": {
    "name": "ipython",
    "version": 3
   },
   "file_extension": ".py",
   "mimetype": "text/x-python",
   "name": "python",
   "nbconvert_exporter": "python",
   "pygments_lexer": "ipython3",
   "version": "3.11.0"
  },
  "orig_nbformat": 4,
  "vscode": {
   "interpreter": {
    "hash": "af31991c939d0d47fd88192dde140282c60bcd0650d9319c70f9d5b7f17cd661"
   }
  }
 },
 "nbformat": 4,
 "nbformat_minor": 2
}
