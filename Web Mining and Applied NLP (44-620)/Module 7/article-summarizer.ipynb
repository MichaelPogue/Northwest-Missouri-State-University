{
 "cells": [
  {
   "cell_type": "markdown",
   "metadata": {},
   "source": [
    "# Web Mining and Applied NLP (44-620)\n",
    "\n",
    "## Final Project: Article Summarizer\n",
    "\n",
    "### Student Name:\n",
    "\n",
    "Perform the tasks described in the Markdown cells below.  When you have completed the assignment make sure your code cells have all been run (and have output beneath them) and ensure you have committed and pushed ALL of your changes to your assignment repository.\n",
    "\n",
    "You should bring in code from previous assignments to help you answer the questions below.\n",
    "\n",
    "Every question that requires you to write code will have a code cell underneath it; you may either write your entire solution in that cell or write it in a python file (`.py`), then import and run the appropriate code to answer the question."
   ]
  },
  {
   "cell_type": "markdown",
   "metadata": {},
   "source": [
    "1. Find on the internet an article or blog post about a topic that interests you and you are able to get the text for using the technologies we have applied in the course.  Get the html for the article and store it in a file (which you must submit with your project)"
   ]
  },
  {
   "cell_type": "code",
   "execution_count": 67,
   "metadata": {},
   "outputs": [],
   "source": [
    "# Import Modules\n",
    "import requests\n",
    "import matplotlib.mlab as mlab\n",
    "import pickle\n",
    "import spacy\n",
    "import numpy as np\n",
    "from bs4 import BeautifulSoup, SoupStrainer\n",
    "from spacytextblob.spacytextblob import SpacyTextBlob\n",
    "from collections import Counter\n",
    "from matplotlib import pyplot as plt\n",
    "from matplotlib import style\n",
    "\n",
    "# List declarative elements\n",
    "parser = 'html.parser'\n",
    "nlp = spacy.load('en_core_web_sm')\n",
    "nlp.add_pipe('spacytextblob')\n",
    "\n",
    "# Aquire Data\n",
    "article_page = requests.get('https://www.growabonsaitree.com/species/wisteria-bonsai/')\n",
    "article_html = article_page.text\n",
    "\n",
    "with open('wisteria.pkl', 'wb') as f:\n",
    "    pickle.dump(article_page.text, f)\n",
    "\n",
    "soup = BeautifulSoup(article_html, parser)"
   ]
  },
  {
   "cell_type": "markdown",
   "metadata": {},
   "source": [
    "2. Read in your article's html source from the file you created in question 1 and do sentiment analysis on the article/post's text (use `.get_text()`).  Print the polarity score with an appropriate label.  Additionally print the number of sentences in the original article (with an appropriate label)"
   ]
  },
  {
   "cell_type": "code",
   "execution_count": 68,
   "metadata": {},
   "outputs": [
    {
     "name": "stdout",
     "output_type": "stream",
     "text": [
      "The Polarity Score for the Wistera-Bonsai artcile is: 0.205\n"
     ]
    }
   ],
   "source": [
    "with open('wisteria.pkl', 'rb') as f:\n",
    "    article_html = pickle.load(f)\n",
    "\n",
    "article_element = soup.find('article')\n",
    "article_text = article_element.get_text()\n",
    "doc = nlp(article_text.lower())\n",
    "\n",
    "soup = BeautifulSoup(article_html, parser)\n",
    "article_element = soup.find('article')\n",
    "\n",
    "p_score = round(doc._.blob.polarity, 3)\n",
    "\n",
    "print(f'The Polarity Score for the Wistera-Bonsai artcile is: {p_score}')"
   ]
  },
  {
   "cell_type": "markdown",
   "metadata": {},
   "source": [
    "3. Load the article text into a trained `spaCy` pipeline, and determine the 5 most frequent tokens (converted to lower case).  Print the common tokens with an appropriate label.  Additionally, print the tokens their frequencies (with appropriate labels)"
   ]
  },
  {
   "cell_type": "code",
   "execution_count": 69,
   "metadata": {},
   "outputs": [
    {
     "name": "stdout",
     "output_type": "stream",
     "text": [
      "Most common words and their frequencies: \n",
      "[('bonsai', 15), ('tree', 14), ('wisteria', 12), ('growth', 6), ('sun', 5)]\n"
     ]
    }
   ],
   "source": [
    "def token_isolation(token):\n",
    "    return not (token.is_space or token.is_punct or token.is_stop)\n",
    "\n",
    "interesting_tokens = [token for token in doc if token_isolation(token)]\n",
    "word_freq = Counter(map(str,interesting_tokens))\n",
    "print(f'Most common words and their frequencies: \\n{word_freq.most_common(5)}')"
   ]
  },
  {
   "cell_type": "markdown",
   "metadata": {},
   "source": [
    "4. Load the article text into a trained `spaCy` pipeline, and determine the 5 most frequent lemmas (converted to lower case).  Print the common lemmas with an appropriate label.  Additionally, print the lemmas with their frequencies (with appropriate labels)."
   ]
  },
  {
   "cell_type": "code",
   "execution_count": 70,
   "metadata": {},
   "outputs": [
    {
     "name": "stdout",
     "output_type": "stream",
     "text": [
      "Most common lemma's and their frequencies: \n",
      "[('tree', 17), ('bonsai', 15), ('wisteria', 12), ('grow', 6), ('growth', 6)]\n"
     ]
    }
   ],
   "source": [
    "interesting_lemmas = [token.lemma_ for token in doc if token_isolation(token)]\n",
    "lemma_freq = Counter(interesting_lemmas)\n",
    "print(f\"Most common lemma's and their frequencies: \\n{lemma_freq.most_common(5)}\")"
   ]
  },
  {
   "cell_type": "markdown",
   "metadata": {},
   "source": [
    "5. Make a list containing the scores (using tokens) of every sentence in the article, and plot a histogram with appropriate titles and axis labels of the scores. From your histogram, what seems to be the most common range of scores (put the answer in a comment after your code)?"
   ]
  },
  {
   "cell_type": "code",
   "execution_count": 71,
   "metadata": {},
   "outputs": [
    {
     "name": "stdout",
     "output_type": "stream",
     "text": [
      "0.5517241379310345 0.6923076923076923 0.6428571428571429 0.36363636363636365 0.5185185185185185 0.35 0.5 0.631578947368421 0.4166666666666667 0.375 0.6666666666666666 0.8461538461538461 0.45454545454545453 0.47058823529411764 0.4444444444444444 0.47368421052631576 0.45454545454545453 0.5294117647058824 0.4666666666666667 0.5238095238095238 0.4444444444444444 0.4117647058823529 0.47058823529411764 0.8333333333333334 "
     ]
    },
    {
     "data": {
      "image/png": "[encoded data removed]",
      "text/plain": [
       "<Figure size 640x480 with 1 Axes>"
      ]
     },
     "metadata": {},
     "output_type": "display_data"
    }
   ],
   "source": [
    "# Define per sentence variable\n",
    "sentences = list(doc.sents)\n",
    "#print(sentences)\n",
    "\n",
    "# Define token score by sentence\n",
    "def score_sentence_by_token(sentence, interesting_tokens):\n",
    "    # Word Count\n",
    "    count = 0\n",
    "    for token in sentence:\n",
    "        if not (token.is_space or token.is_punct):\n",
    "            count += 1\n",
    "    \n",
    "    # Word occurrence count\n",
    "    occurrence =  len([i for i in interesting_tokens if i in sentence ])\n",
    "    \n",
    "    # Calculation\n",
    "    result = occurrence / count\n",
    "    return result, count, occurrence\n",
    "\n",
    "# Generate token per sentence score\n",
    "tok_score_list = []\n",
    "for sentence in sentences:\n",
    "    tok_score_list.append(score_sentence_by_token(sentence, interesting_tokens)[0])\n",
    "x_toc = tok_score_list\n",
    "\n",
    "# Print list (horiztonally)\n",
    "for item in tok_score_list:\n",
    "    print(item, end=' ')\n",
    "\n",
    "# Histogram\n",
    "plt.title(\"Sentence by Tokens\")\n",
    "plt.xlabel(\"Count\")\n",
    "plt.ylabel(\"Score\")\n",
    "plt.xlim(0, 1)\n",
    "#plt.ylim(,)\n",
    "plt.hist(x_toc, edgecolor = 'gold', facecolor = 'black')\n",
    "plt.show()"
   ]
  },
  {
   "cell_type": "markdown",
   "metadata": {},
   "source": [
    "6. Make a list containing the scores (using lemmas) of every sentence in the article, and plot a histogram with appropriate titles and axis labels of the scores.  From your histogram, what seems to be the most common range of scores (put the answer in a comment after your code)?"
   ]
  },
  {
   "cell_type": "code",
   "execution_count": 72,
   "metadata": {},
   "outputs": [
    {
     "name": "stdout",
     "output_type": "stream",
     "text": [
      "0.5517241379310345 0.6923076923076923 0.6428571428571429 0.36363636363636365 0.5185185185185185 0.35 0.5 0.631578947368421 0.4166666666666667 0.375 0.6666666666666666 0.8461538461538461 0.45454545454545453 0.47058823529411764 0.4444444444444444 0.47368421052631576 0.45454545454545453 0.5294117647058824 0.4666666666666667 0.5238095238095238 0.4444444444444444 0.4117647058823529 0.47058823529411764 0.8333333333333334 "
     ]
    },
    {
     "data": {
      "image/png": "[encoded data removed]",
      "text/plain": [
       "<Figure size 640x480 with 1 Axes>"
      ]
     },
     "metadata": {},
     "output_type": "display_data"
    }
   ],
   "source": [
    "# Define llema score by sentence\n",
    "def score_sentence_by_lemma(sentence, interesting_lemmas):\n",
    "    # Word Count\n",
    "    count = 0\n",
    "    for token in sentence:\n",
    "        if not (token.is_space or token.is_punct):\n",
    "            count += 1\n",
    "    \n",
    "    # Word occurrence count\n",
    "    lemcount = 0\n",
    "    for token in sentence:\n",
    "        if token.lemma_.lower() in interesting_lemmas:\n",
    "            lemcount += 1\n",
    "    \n",
    "    # Calculation\n",
    "    result = lemcount / count\n",
    "    return result, count, lemcount\n",
    "\n",
    "\n",
    "# Lemma per Sentence \n",
    "sentence = sentences[0]\n",
    "lem_score_list = []\n",
    "for sentence in sentences:\n",
    "    lem_score_list.append(score_sentence_by_lemma(sentence, interesting_lemmas)[0])\n",
    "x_lem = lem_score_list\n",
    "\n",
    "# Print list (horiztonally)\n",
    "for item in tok_score_list:\n",
    "    print(item, end=' ')\n",
    "\n",
    "# Histogram\n",
    "plt.title(\"Sentence by Lemmas\")\n",
    "plt.xlabel(\"Count\")\n",
    "plt.ylabel(\"Score\")\n",
    "plt.xlim(0, 1)\n",
    "#plt.ylim(,)\n",
    "plt.hist(x_lem, edgecolor = 'orange', facecolor = 'purple')\n",
    "plt.show()"
   ]
  },
  {
   "cell_type": "code",
   "execution_count": 73,
   "metadata": {},
   "outputs": [
    {
     "name": "stdout",
     "output_type": "stream",
     "text": [
      "Lemma: 24 Token: 24\n"
     ]
    }
   ],
   "source": [
    "print(f'Lemma: {len(x_lem)} Token: {len(x_toc)}')"
   ]
  },
  {
   "attachments": {},
   "cell_type": "markdown",
   "metadata": {},
   "source": [
    "7. Using the histograms from questions 5 and 6, decide a \"cutoff\" score for tokens and lemmas such that fewer than half the sentences would have a score greater than the cutoff score.  Record the scores in this Markdown cell\n",
    "\n",
    "* Cutoff Score (tokens): 0.5\n",
    "* Cutoff Score (lemmas): 0.6\n",
    "\n",
    "Feel free to change these scores as you generate your summaries.  Ideally, we're shooting for at least 6 sentences for our summary, but don't want more than 10 (these numbers are rough estimates; they depend on the length of your article)."
   ]
  },
  {
   "cell_type": "markdown",
   "metadata": {},
   "source": [
    "8. Create a summary of the article by going through every sentence in the article and adding it to an (initially) empty list if its score (based on tokens) is greater than the cutoff score you identified in question 8.  If your loop variable is named `sent`, you may find it easier to add `sent.text.strip()` to your list of sentences.  Print the summary (I would cleanly generate the summary text by `join`ing the strings in your list together with a space (`' '.join(sentence_list)`)."
   ]
  },
  {
   "cell_type": "code",
   "execution_count": 92,
   "metadata": {},
   "outputs": [],
   "source": [
    "sentences = list(doc.sents)\n",
    "sentence_list = []\n",
    "\n",
    "for sentence in sentences:\n",
    "    if score_sentence_by_token(sentence, interesting_tokens)[0] > 0.5:\n",
    "        sentence_list.append(sentence)\n",
    "\n",
    "#print(sentence_list)"
   ]
  },
  {
   "cell_type": "markdown",
   "metadata": {},
   "source": [
    "9. Print the polarity score of your summary you generated with the token scores (with an appropriate label). Additionally, print the number of sentences in the summarized article."
   ]
  },
  {
   "cell_type": "code",
   "execution_count": null,
   "metadata": {},
   "outputs": [],
   "source": []
  },
  {
   "cell_type": "markdown",
   "metadata": {},
   "source": [
    "10. Create a summary of the article by going through every sentence in the article and adding it to an (initially) empty list if its score (based on lemmas) is greater than the cutoff score you identified in question 8.  If your loop variable is named `sent`, you may find it easier to add `sent.text.strip()` to your list of sentences.  Print the summary (I would cleanly generate the summary text by `join`ing the strings in your list together with a space (`' '.join(sentence_list)`)."
   ]
  },
  {
   "cell_type": "code",
   "execution_count": null,
   "metadata": {},
   "outputs": [],
   "source": []
  },
  {
   "cell_type": "markdown",
   "metadata": {},
   "source": [
    "11. Print the polarity score of your summary you generated with the lemma scores (with an appropriate label). Additionally, print the number of sentences in the summarized article."
   ]
  },
  {
   "cell_type": "code",
   "execution_count": null,
   "metadata": {},
   "outputs": [],
   "source": []
  },
  {
   "cell_type": "markdown",
   "metadata": {},
   "source": [
    "12.  Compare your polarity scores of your summaries to the polarity scores of the initial article.  Is there a difference?  Why do you think that may or may not be?.  Answer in this Markdown cell.  "
   ]
  },
  {
   "cell_type": "markdown",
   "metadata": {},
   "source": [
    "13. Based on your reading of the original article, which summary do you think is better (if there's a difference).  Why do you think this might be?"
   ]
  }
 ],
 "metadata": {
  "kernelspec": {
   "display_name": "Python 3",
   "language": "python",
   "name": "python3"
  },
  "language_info": {
   "codemirror_mode": {
    "name": "ipython",
    "version": 3
   },
   "file_extension": ".py",
   "mimetype": "text/x-python",
   "name": "python",
   "nbconvert_exporter": "python",
   "pygments_lexer": "ipython3",
   "version": "3.11.1 (tags/v3.11.1:a7a450f, Dec  6 2022, 19:58:39) [MSC v.1934 64 bit (AMD64)]"
  },
  "vscode": {
   "interpreter": {
    "hash": "863b3a55134ab839f8749329ac3d58c92f67b3b74d9daad2228f98af9c593ba4"
   }
  }
 },
 "nbformat": 4,
 "nbformat_minor": 4
}
