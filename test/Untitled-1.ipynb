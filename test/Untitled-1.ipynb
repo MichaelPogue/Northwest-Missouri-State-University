{
 "cells": [
  {
   "cell_type": "code",
   "execution_count": 1,
   "metadata": {},
   "outputs": [],
   "source": [
    "import csv\n",
    "import socket\n",
    "import time\n",
    "\n",
    "host = \"localhost\"\n",
    "port = 9999\n",
    "address_tuple = (host, port)\n",
    "\n",
    "socket_family = socket.AF_INET \n",
    "socket_type = socket.SOCK_DGRAM \n",
    "sock = socket.socket(socket.AF_INET, socket.SOCK_DGRAM)"
   ]
  },
  {
   "cell_type": "code",
   "execution_count": 2,
   "metadata": {},
   "outputs": [
    {
     "ename": "FileNotFoundError",
     "evalue": "[Errno 2] No such file or directory: 'batchfile_0_farenheit.csv'",
     "output_type": "error",
     "traceback": [
      "\u001b[1;31m---------------------------------------------------------------------------\u001b[0m",
      "\u001b[1;31mFileNotFoundError\u001b[0m                         Traceback (most recent call last)",
      "Cell \u001b[1;32mIn[2], line 1\u001b[0m\n\u001b[1;32m----> 1\u001b[0m input_file \u001b[39m=\u001b[39m \u001b[39mopen\u001b[39;49m(\u001b[39m\"\u001b[39;49m\u001b[39mbatchfile_0_farenheit.csv\u001b[39;49m\u001b[39m\"\u001b[39;49m, \u001b[39m\"\u001b[39;49m\u001b[39mr\u001b[39;49m\u001b[39m\"\u001b[39;49m)\n\u001b[0;32m      2\u001b[0m \u001b[39mreversed\u001b[39m \u001b[39m=\u001b[39m \u001b[39msorted\u001b[39m(input_file)\n\u001b[0;32m      3\u001b[0m reader \u001b[39m=\u001b[39m csv\u001b[39m.\u001b[39mreader(\u001b[39mreversed\u001b[39m, delimiter\u001b[39m=\u001b[39m\u001b[39m\"\u001b[39m\u001b[39m,\u001b[39m\u001b[39m\"\u001b[39m)\n",
      "File \u001b[1;32m~\\AppData\\Local\\Packages\\PythonSoftwareFoundation.Python.3.11_qbz5n2kfra8p0\\LocalCache\\local-packages\\Python311\\site-packages\\IPython\\core\\interactiveshell.py:282\u001b[0m, in \u001b[0;36m_modified_open\u001b[1;34m(file, *args, **kwargs)\u001b[0m\n\u001b[0;32m    275\u001b[0m \u001b[39mif\u001b[39;00m file \u001b[39min\u001b[39;00m {\u001b[39m0\u001b[39m, \u001b[39m1\u001b[39m, \u001b[39m2\u001b[39m}:\n\u001b[0;32m    276\u001b[0m     \u001b[39mraise\u001b[39;00m \u001b[39mValueError\u001b[39;00m(\n\u001b[0;32m    277\u001b[0m         \u001b[39mf\u001b[39m\u001b[39m\"\u001b[39m\u001b[39mIPython won\u001b[39m\u001b[39m'\u001b[39m\u001b[39mt let you open fd=\u001b[39m\u001b[39m{\u001b[39;00mfile\u001b[39m}\u001b[39;00m\u001b[39m by default \u001b[39m\u001b[39m\"\u001b[39m\n\u001b[0;32m    278\u001b[0m         \u001b[39m\"\u001b[39m\u001b[39mas it is likely to crash IPython. If you know what you are doing, \u001b[39m\u001b[39m\"\u001b[39m\n\u001b[0;32m    279\u001b[0m         \u001b[39m\"\u001b[39m\u001b[39myou can use builtins\u001b[39m\u001b[39m'\u001b[39m\u001b[39m open.\u001b[39m\u001b[39m\"\u001b[39m\n\u001b[0;32m    280\u001b[0m     )\n\u001b[1;32m--> 282\u001b[0m \u001b[39mreturn\u001b[39;00m io_open(file, \u001b[39m*\u001b[39;49margs, \u001b[39m*\u001b[39;49m\u001b[39m*\u001b[39;49mkwargs)\n",
      "\u001b[1;31mFileNotFoundError\u001b[0m: [Errno 2] No such file or directory: 'batchfile_0_farenheit.csv'"
     ]
    }
   ],
   "source": [
    "input_file = open(\"batchfile_0_farenheit.csv\", \"r\")\n",
    "reversed = sorted(input_file)\n",
    "reader = csv.reader(reversed, delimiter=\",\")\n",
    "\n",
    "for row in reader:\n",
    "    # read a row from the file\n",
    "    Year, Month, Day, Time, TempF = row\n",
    "\n",
    "    # use an fstring to create a message from our data\n",
    "    # notice the f before the opening quote for our string?\n",
    "    fstring_message = f\"[{Year}, {Month}, {Day}, {Time}, {TempF}]\"\n",
    "    \n",
    "    # prepare a binary (1s and 0s) message to stream\n",
    "    MESSAGE = fstring_message.encode()\n",
    "\n",
    "    # use the socket sendto() method to send the message\n",
    "    sock.sendto(MESSAGE, address_tuple)\n",
    "    print (f\"Sent: {MESSAGE} on port {port}.\")\n",
    "\n",
    "    # sleep for a few seconds\n",
    "    time.sleep(3)\n"
   ]
  }
 ],
 "metadata": {
  "kernelspec": {
   "display_name": "Python 3",
   "language": "python",
   "name": "python3"
  },
  "language_info": {
   "codemirror_mode": {
    "name": "ipython",
    "version": 3
   },
   "file_extension": ".py",
   "mimetype": "text/x-python",
   "name": "python",
   "nbconvert_exporter": "python",
   "pygments_lexer": "ipython3",
   "version": "3.11.1"
  },
  "orig_nbformat": 4,
  "vscode": {
   "interpreter": {
    "hash": "863b3a55134ab839f8749329ac3d58c92f67b3b74d9daad2228f98af9c593ba4"
   }
  }
 },
 "nbformat": 4,
 "nbformat_minor": 2
}
